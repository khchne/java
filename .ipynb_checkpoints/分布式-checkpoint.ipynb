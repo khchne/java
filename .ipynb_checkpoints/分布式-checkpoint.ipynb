{
 "cells": [
  {
   "cell_type": "markdown",
   "metadata": {},
   "source": [
    "## 分布式ID"
   ]
  },
  {
   "cell_type": "markdown",
   "metadata": {},
   "source": [
    "### 生成分布式ID的9种方法"
   ]
  },
  {
   "cell_type": "markdown",
   "metadata": {},
   "source": [
    "* UUID\n",
    "* 数据库自增ID\n",
    "* 数据库多主模式\n",
    "* 号段模式\n",
    "* Redis\n",
    "* 雪花算法（SnowFlake）\n",
    "* 滴滴出品（TinyID）\n",
    "* 百度 （Uidgenerator）\n",
    "* 美团（Leaf）"
   ]
  },
  {
   "cell_type": "markdown",
   "metadata": {},
   "source": [
    "**1. UUID**\n",
    "* 将数据库中的ID试用UUID生成\n",
    "* 生成足够简单，本地生成无网络消耗，具有唯一性\n",
    "* **缺点**：\n",
    "    * 无序的字符串，不具备趋势自增特性\n",
    "    * 没有具体的业务含义\n",
    "    * 长度过长16 字节128位，36位长度的字符串，存储以及查询对MySQL的性能消耗较大，MySQL官方明确建议主键要尽量越短越好，作为数据库主键 UUID 的无序性会导致数据位置频繁变动，严重影响性能。"
   ]
  },
  {
   "cell_type": "markdown",
   "metadata": {},
   "source": [
    "**2. 基于数据库自增ID**\n",
    "* 用一个单独的MySQL实例（数据库中的表）用来生成ID， 当我们需要一个ID时，就往这个表中插入一个数据获取ID；\n",
    "* 实现简单，ID单调自增，数值类型查询速度快\n",
    "* **缺点：**DB单点存在宕机风险，无法扛住高并发场景"
   ]
  },
  {
   "cell_type": "markdown",
   "metadata": {},
   "source": [
    "**3. 基于数据库集群模式**\n",
    "* 使用集群的方式，主从模式生产ID\n",
    "* 需要设置每个数据库的【起点】，【步长】\n",
    "* 解决了单点故障的问题；\n",
    "* 但是不利于扩展，也无法满足高并发的场景"
   ]
  },
  {
   "cell_type": "markdown",
   "metadata": {},
   "source": [
    "**4. 基于数据库的号段模式**\n",
    "* 类似于2，但是不同的是，每次去获取的时候，获取一批ID\n",
    "* 然后数据库先使用申请到的ID，当不够用时，再去申请新的；\n",
    "* 通过【段长度】，【起始地址】，【版本】控制ID生成也并发，版本号是以CAS这种乐观锁的方式进行修改的"
   ]
  },
  {
   "cell_type": "markdown",
   "metadata": {},
   "source": [
    "**5. 基于Redis模式**\n",
    "* 将2中的数据库变成Redis而已，需要考虑Redis的持久化\n",
    "* 如果Redis宕机，也可能出现重复ID的情况"
   ]
  },
  {
   "cell_type": "markdown",
   "metadata": {},
   "source": [
    "**6. 基于雪花算法（Snowflake）模式**"
   ]
  },
  {
   "cell_type": "markdown",
   "metadata": {},
   "source": [
    "* 生成的是Long类型的ID，一个Long类型占8个字节，每个字节占8比特，也就是说一个Long类型占64个比特。\n",
    "\n",
    "\n",
    "Snowflake ID组成结构：正数位（占1比特）+ 时间戳（占41比特）+ 机器ID（占5比特）+ 数据中心（占5比特）+ 自增值（占12比特），总共64比特组成的一个Long类型。\n",
    "\n",
    "* 第一个bit位（1bit）：Java中long的最高位是符号位代表正负，正数是0，负数是1，一般生成ID都为正数，所以默认为0。\n",
    "* 时间戳部分（41bit）：毫秒级的时间，不建议存当前时间戳，而是用（当前时间戳 - 固定开始时间戳）的差值，可以使产生的ID从更小的值开始；41位的时间戳可以使用69年，(1L << 41) / (1000L * 60 * 60 * 24 * 365) = 69年\n",
    "* 工作机器id（10bit）：也被叫做workId，这个可以灵活配置，机房或者机器号组合都可以。\n",
    "* 序列号部分（12bit），自增值支持同一毫秒内同一个节点可以生成4096个ID\n"
   ]
  },
  {
   "cell_type": "markdown",
   "metadata": {},
   "source": []
  },
  {
   "cell_type": "markdown",
   "metadata": {},
   "source": []
  },
  {
   "cell_type": "markdown",
   "metadata": {},
   "source": []
  }
 ],
 "metadata": {
  "kernelspec": {
   "display_name": "Python 3",
   "language": "python",
   "name": "python3"
  },
  "language_info": {
   "codemirror_mode": {
    "name": "ipython",
    "version": 3
   },
   "file_extension": ".py",
   "mimetype": "text/x-python",
   "name": "python",
   "nbconvert_exporter": "python",
   "pygments_lexer": "ipython3",
   "version": "3.7.3"
  }
 },
 "nbformat": 4,
 "nbformat_minor": 2
}
