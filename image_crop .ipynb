{
 "cells": [
  {
   "cell_type": "code",
   "execution_count": 5,
   "metadata": {},
   "outputs": [],
   "source": [
    "import os\n",
    "import cv2\n",
    "import xml.etree.ElementTree as ET"
   ]
  },
  {
   "cell_type": "markdown",
   "metadata": {},
   "source": [
    "# 下面是路径设置"
   ]
  },
  {
   "cell_type": "code",
   "execution_count": 6,
   "metadata": {},
   "outputs": [],
   "source": [
    "# 理论上代码仅需修改此部分\n",
    "img_path = r'C:\\Users\\hk\\Desktop\\dataset_2\\image'  # 图片路径\n",
    "xml_path = r'C:\\Users\\hk\\Desktop\\dataset_2\\label'  # 标签路径\n",
    "obj_img_path = r'C:\\Users\\hk\\Desktop\\dataset_2\\cropped_image'   # 目标裁剪图片存放路径\n",
    "i2l_path = r'C:\\Users\\hk\\Desktop\\dataset_2\\image2label'  # txt文档存放路径"
   ]
  },
  {
   "cell_type": "markdown",
   "metadata": {},
   "source": [
    "# 上面是路径设置"
   ]
  },
  {
   "cell_type": "code",
   "execution_count": 7,
   "metadata": {},
   "outputs": [
    {
     "name": "stdout",
     "output_type": "stream",
     "text": [
      "Finished.\n"
     ]
    }
   ],
   "source": [
    "# 裁剪，只适用标签文件为xml的情况，其他情况可相应地修改代码\n",
    "for img_file in os.listdir(img_path):    # 遍历图片文件夹\n",
    "    img_filename = os.path.join(img_path, img_file)  #将 图片路径与图片名进行拼接\n",
    "    img_cv = cv2.imread(img_filename)  #读取图片\n",
    "\n",
    "    img_name = (os.path.splitext(img_file)[0])  # 分割出图片名，如“000.png” 图片名为“000”\n",
    "    xml_name = xml_path + '\\\\' + '%s.xml'%img_name  #利 用标签路径、图片名、xml后缀拼接出完整的标签路径名\n",
    "\n",
    "    root = ET.parse(xml_name).getroot() # 利用ET读取xml文件\n",
    "    for obj in root.iter('object'):  # 遍历所有目标框\n",
    "        name = obj.find('name').text   # 获取目标框名称，即label名\n",
    "\n",
    "        xmlbox = obj.find('bndbox')   # 找到框目标\n",
    "        x0 = xmlbox.find('xmin').text  # 将框目标的四个顶点坐标取出\n",
    "        y0 = xmlbox.find('ymin').text\n",
    "        x1 = xmlbox.find('xmax').text\n",
    "        y1 = xmlbox.find('ymax').text\n",
    "\n",
    "        obj_img = img_cv[int(y0):int(y1), int(x0):int(x1)]  # cv2裁剪出目标框中的图片\n",
    "        obj_img_name = obj_img_path + '\\\\' + '%s_%s'%(img_name, name) + '.jpg'  # 裁剪图片的名字\n",
    "        \n",
    "        cv2.imencode('.jpg', obj_img)[1].tofile(obj_img_name)  # 写入\n",
    "                \n",
    "print(\"Finished.\")"
   ]
  },
  {
   "cell_type": "code",
   "execution_count": 8,
   "metadata": {},
   "outputs": [],
   "source": [
    "i2l_file = open(i2l_path + r'\\image2label.txt', 'w')  # 生成txt\n",
    "croppedimage_names = os.listdir(obj_img_path)  #取路径下的文件名，生成列表\n",
    "\n",
    "row = 0  # 统计行数\n",
    "\n",
    "for croppedimage_name in croppedimage_names:      #遍历列表下的文件名\n",
    "    i2l_file.write(str(row) + ' ' + croppedimage_name + ' ' + croppedimage_name[6:-4] + '\\n')  # 写入txt文件\n",
    "    row += 1  # 更新行数\n",
    "    \n",
    "i2l_file.close()  # 结束"
   ]
  },
  {
   "cell_type": "code",
   "execution_count": null,
   "metadata": {},
   "outputs": [],
   "source": []
  }
 ],
 "metadata": {
  "kernelspec": {
   "display_name": "Python 3",
   "language": "python",
   "name": "python3"
  },
  "language_info": {
   "codemirror_mode": {
    "name": "ipython",
    "version": 3
   },
   "file_extension": ".py",
   "mimetype": "text/x-python",
   "name": "python",
   "nbconvert_exporter": "python",
   "pygments_lexer": "ipython3",
   "version": "3.7.3"
  }
 },
 "nbformat": 4,
 "nbformat_minor": 5
}
