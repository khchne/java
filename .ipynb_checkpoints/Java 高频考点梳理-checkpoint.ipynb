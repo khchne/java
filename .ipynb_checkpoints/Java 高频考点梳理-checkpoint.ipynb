{
 "cells": [
  {
   "cell_type": "markdown",
   "metadata": {},
   "source": [
    ".equals()是用来判断二者之间的**值** 是不是相等的 而 == 是用来判断二者的 **地址**是否相等"
   ]
  },
  {
   "cell_type": "markdown",
   "metadata": {},
   "source": [
    "### Java的基础数据类型和字节数和取值范围"
   ]
  },
  {
   "cell_type": "markdown",
   "metadata": {},
   "source": [
    "![基础数据类型](img/java-type.png)"
   ]
  },
  {
   "cell_type": "markdown",
   "metadata": {},
   "source": [
    "# 基础"
   ]
  },
  {
   "cell_type": "markdown",
   "metadata": {},
   "source": [
    "## 接口和抽象类的区别"
   ]
  },
  {
   "cell_type": "markdown",
   "metadata": {},
   "source": [
    "**相同点**  \n",
    "（1）都不能被实例化  \n",
    "（2）接口的实现类或抽象类的子类都只有实现了接口或抽象类中的方法后才能实例化。\n",
    "\n",
    "**区别：**  \n",
    "\n",
    "**1. 设计层面上**  \n",
    "从设计层面来说，抽象类是对**类**的抽象，是一种模板设计，接口是**行为**的抽象，是一种行为的规范。\n",
    "\n",
    "\n",
    "**2. 语法层面上**  \n",
    "1. 抽象类可以提供成员**方法的实现细节**，而接口不能；\n",
    "2. 抽象类中的成员变量可以是各种类型的，而接口中的成员变量只能是**常量** ( public static final )修饰；\n",
    "3. 接口中不能含有静态代码块以及静态方法，而抽象类可以有静态代码块和静态方法；\n",
    "4. 一个类只能继承一个抽象类，而一个类却可以实现多个接口。**单继承多实现**\n",
    "5. 子类可以不全部实现抽象类的所有抽象方法（此时子类也将被声明为一个抽象类），但是实现类必须实现接口中的所有方法"
   ]
  },
  {
   "cell_type": "markdown",
   "metadata": {},
   "source": [
    "## 什么时候定义接口，什么时候定义抽象类"
   ]
  },
  {
   "cell_type": "markdown",
   "metadata": {},
   "source": [
    "1. 如果预计要创建组件的多个版本，则创建抽象类。抽象类提供简单的方法来控制组件版本；\n",
    "2. 如果创建的功能将在大范围的**全异对象**间使用，则使用接口。如果要设计**小而简练**的功能块，则使用接口；比如（Service层)\n",
    "3. 如果要设计**大的功能单元**，则使用抽象类。如果要在组件的所有实现间提供通用的已实现功能，则使用抽象类； 比如（Redis中Key的设置，设置了过期时间和前缀）\n",
    "4. 抽象类主要用于**关系密切**的对象；而接口适合为**不相关的类**提供通用功能。"
   ]
  },
  {
   "cell_type": "markdown",
   "metadata": {},
   "source": [
    "### Collection集合类的划分"
   ]
  },
  {
   "cell_type": "markdown",
   "metadata": {},
   "source": [
    "![](img/Collection集合体系图.jpg)"
   ]
  },
  {
   "cell_type": "markdown",
   "metadata": {},
   "source": [
    "<h3>String 的不变性如何理解</h3>"
   ]
  },
  {
   "cell_type": "markdown",
   "metadata": {},
   "source": [
    "因为String中是用```private final byte[] value ```存储数据的，不可变"
   ]
  },
  {
   "cell_type": "markdown",
   "metadata": {},
   "source": [
    "**什么使用+可以改变String呢**\n",
    "```java\n",
    "public class Demo {\n",
    "\n",
    "    public static void main(String[] args) {\n",
    "        String str = \"不一样的\";\n",
    "        str = str + \"科技宅\";\n",
    "        System.out.println(str);\n",
    "    }\n",
    "\n",
    "}\n",
    "\n",
    "```\n",
    "在使用+ 进行拼接的时候，实际上**jvm是初始化了一个StringBuilder进行拼接的**。且**toString方法是生成了一个新的String对象**而不是更改旧的str的内容，相当于把**旧str的引用指向的新的String对象**。这也就是str发生变化的原因；相当于编译后的代码如下：\n",
    "```java\n",
    "public class Demo {\n",
    "\n",
    "    public static void main(String[] args) {\n",
    "        String str = \"不一样的\";\n",
    "        StringBuilder builder =new StringBuilder();\n",
    "        builder.append(str);\n",
    "        builder.append(\"科技宅\");\n",
    "        str = builder.toString();  // return new String(value, 0, count);\n",
    "        System.out.println(str);\n",
    "    }\n",
    "\n",
    "}\n",
    "```"
   ]
  },
  {
   "cell_type": "markdown",
   "metadata": {},
   "source": [
    "<h3>实现String的equals方法</h3>"
   ]
  },
  {
   "cell_type": "markdown",
   "metadata": {},
   "source": [
    "```java\n",
    "public boolean equals(Object anObject) {\n",
    "        if (this == anObject) {\n",
    "            return true;\n",
    "        }\n",
    "        if (anObject instanceof String) {\n",
    "            String anotherString = (String)anObject;\n",
    "            int n = value.length;\n",
    "            if (n == anotherString.value.length) {\n",
    "                char v1[] = value;\n",
    "                char v2[] = anotherString.value;\n",
    "                int i = 0;\n",
    "                while (n-- != 0) {\n",
    "                    if (v1[i] != v2[i])\n",
    "                        return false;\n",
    "                    i++;\n",
    "                }\n",
    "                return true;\n",
    "            }\n",
    "        }\n",
    "        return false;\n",
    "    }\n",
    "    ```"
   ]
  },
  {
   "cell_type": "markdown",
   "metadata": {},
   "source": [
    "<h3>StringBuilder和StringBuffer，哪个是线程安全的，如何实现线程安全的？</h3>"
   ]
  },
  {
   "cell_type": "markdown",
   "metadata": {},
   "source": [
    "**StringBuffer是线程安全的**  \n",
    "StringBuffer实现线程安全：  \n",
    "    StringBuffer的所有public方法都是用 synchronized修饰的（除了构造器），而StringBuilder没有"
   ]
  },
  {
   "cell_type": "markdown",
   "metadata": {},
   "source": [
    "## String，StringBuilder，StringBuffer的区别是啥？"
   ]
  },
  {
   "cell_type": "markdown",
   "metadata": {},
   "source": [
    "* String, StringBuilder, StringBuffer都是有final关键字进行修饰的，不可继承\n",
    "* 从**可变性**来讲String的是不可变的，StringBuilder，StringBuffer的长度是可变的。\n",
    "* 从**运行速度**上来讲StringBuilder > StringBuffer > String。\n",
    "* 从**线程安全**上来StringBuilder是线程不安全的，而StringBuffer是线程安全的。\n",
    "\n",
    "  所以 String：适用于少量的字符串操作的情况，StringBuilder：适用于单线程下在字符缓冲区进行大量操作的情况，StringBuffer：适用多线程下在字符缓冲区进行大量操作的情况。"
   ]
  },
  {
   "cell_type": "markdown",
   "metadata": {},
   "source": [
    "<h3>Long和Integer的缓冲机制</h3>"
   ]
  },
  {
   "cell_type": "markdown",
   "metadata": {},
   "source": [
    "1. Integer和Long都**默认缓存值从-128到127的对象**，缓存工作在静态块完成，在类生命周期的初始化阶段执行。\n",
    "2. Integer的缓存上界high可以通过jvm参数-XX:AutoBoxCacheMax=size指定，取指定值与127的最大值并且不超过Integer表示范围，而下界low不能指定，只能为-128。\n",
    "3. Long缓存范围上界和下界均不能动态指定\n",
    "\n",
    "简单而言：\n",
    "1. Integer和Long默认缓存值属于 [-128, +127]\n",
    "2. Integer可以设置上届的数值，但是不能设置下届的数值，只能是 -128\n",
    "3. Long的缓存范围不能更改"
   ]
  },
  {
   "cell_type": "markdown",
   "metadata": {},
   "source": [
    "<h3>自动拆箱/自动装箱</h3>"
   ]
  },
  {
   "cell_type": "markdown",
   "metadata": {},
   "source": [
    "    装箱就是自动将基本数据类型转换为包装器类型；    自动装箱，调用的是 .valueOf();\n",
    "    拆箱就是自动将包装器类型转换为基本数据类型。    自动拆箱，调用的是 .xxxValue()     xxx是要拆成的类型"
   ]
  },
  {
   "cell_type": "markdown",
   "metadata": {},
   "source": [
    "```java\n",
    "public class TestBox3 {\n",
    "    public static void main(String[] args) {\n",
    "        Integer a = 1;\n",
    "        Integer b = 2;\n",
    "        Integer c = 3;\n",
    "        Long d = 2L;\n",
    "        Long e = 3L;\n",
    "        int f = 2;\n",
    " \n",
    "        //一旦有包装类型和数值类型判断==时，则触发包装类型的自动拆箱，转为数值类型的比较\n",
    "        System.out.println(new Integer(300) == 300);//返回true\n",
    " \n",
    "        //一旦有包装类型和数值类型发生运算时，则触发包装类型的自动拆箱，转为数值类型的运算\n",
    "        System.out.println(c == (a + f));//返回true\n",
    " \n",
    "        //一旦有包装类型和包装类型发生运算时，则触发包装类型的自动拆箱，转为数值类型的运算\n",
    "        System.out.println(c == (a + b));//返回true\n",
    " \n",
    "        //只有对象类型才有equals方法，因此首先a,b触发包装类型的自动拆箱，转为数值类型的运算。\n",
    "        //运算完，再将结果3自动装箱，Integer重写了equals,因此可以转为包装类型与包装类型的比较。\n",
    "        //当两边的包装类型不一致时，必定返回false。\n",
    "        //当两边的包装类型一致时,再进行拆箱，判断两者代表的数值是否相等。\n",
    "        System.out.println(c.equals(a + b));//返回true\n",
    " \n",
    "        //不同数据类型的数值进行运算，首先会将低精度的数据类型转化为高精度的数据类型，即自动类型转换。\n",
    "        //比如现在的int+long,会提升到long+long,再进行运算。\n",
    "        System.out.println(e == (a + d));//返回true\n",
    " \n",
    "        //==号两边类型不一致时，直接执行自动拆箱，比较之后的数值\n",
    "        System.out.println(e == (a + b));//返回true\n",
    " \n",
    "        //依次经历自动拆箱，自动类型转换、运算、自动装箱，类型比较，拆箱，数值比较\n",
    "        System.out.println(e.equals(a + d));//返回true\n",
    " \n",
    "        //依次经历自动拆箱，自动类型转换、运算、自动装箱，类型比较，两边类型不一致，直接返回false\n",
    "        System.out.println(c.equals(a + d));//返回false\n",
    "    }\n",
    "}\n",
    "```"
   ]
  },
  {
   "cell_type": "markdown",
   "metadata": {},
   "source": [
    "# 并发"
   ]
  },
  {
   "cell_type": "markdown",
   "metadata": {},
   "source": [
    "### 并发的三个特性"
   ]
  },
  {
   "cell_type": "markdown",
   "metadata": {},
   "source": [
    "1. 原子性： 在Java中，基本数据类型的读取的写操作是原子操作，也就是说，这些操作是不可中断的，要么一定做完， 要么不做"
   ]
  },
  {
   "cell_type": "markdown",
   "metadata": {},
   "source": [
    "2. 可见性：当多个线程访问同一个变量时，一个线程修改了这个变量的值，其他线程能够**立即看得到修改后的值**。"
   ]
  },
  {
   "cell_type": "markdown",
   "metadata": {},
   "source": [
    "3. 有序性：程序执行的顺序按照代码的先后**顺序执行**"
   ]
  },
  {
   "cell_type": "markdown",
   "metadata": {},
   "source": [
    "### volatile修饰有什么用"
   ]
  },
  {
   "cell_type": "markdown",
   "metadata": {},
   "source": [
    "被volatile修饰的共享变量，就具有了以下两点特性：\n",
    "\n",
    "1. 保证了不同线程对该变量操作的**内存可见性**;\n",
    "2. **禁止指令重排序**  \n",
    "\n",
    "\n",
    "**volatile关键字不能保证原子性的**"
   ]
  },
  {
   "cell_type": "markdown",
   "metadata": {},
   "source": [
    "https://juejin.cn/post/6844903520760496141#heading-4"
   ]
  },
  {
   "cell_type": "markdown",
   "metadata": {},
   "source": [
    "### Java内存模型(JMM)\n",
    "\n",
    "JMM规定所有**变量都是存在主存中**。每个线程都有自己独立的**工作内存**且只能访问自己的主内存。\n",
    "\n",
    "在每个线程进行工作时，会从主内存中将变量加载到工作内存当中，即复制一份到自己的工作内存，当线程工作完毕后再将变量的值同步给主内存"
   ]
  },
  {
   "cell_type": "markdown",
   "metadata": {},
   "source": [
    "![](img/JMM.png)"
   ]
  },
  {
   "cell_type": "markdown",
   "metadata": {},
   "source": [
    "### JAVA中有哪些锁"
   ]
  },
  {
   "cell_type": "markdown",
   "metadata": {},
   "source": [
    "通过是否含有某一些特性，将锁按照以下规则进行划分：  \n",
    "* 乐观锁 / 悲观锁\n",
    "* 自旋锁 / 适应性自旋锁\n",
    "* 偏向锁 / 轻量级锁 / 重量级锁\n",
    "* 公平锁 / 非公平锁\n",
    "* 共享锁 / 排他锁"
   ]
  },
  {
   "cell_type": "markdown",
   "metadata": {},
   "source": [
    "![](img/lock-all.png)"
   ]
  },
  {
   "cell_type": "markdown",
   "metadata": {},
   "source": [
    "![](img/lock-2.png)"
   ]
  },
  {
   "cell_type": "markdown",
   "metadata": {},
   "source": [
    "https://tech.meituan.com/2018/11/15/java-lock.html"
   ]
  },
  {
   "cell_type": "markdown",
   "metadata": {},
   "source": [
    "https://tech.meituan.com/2019/12/05/aqs-theory-and-apply.html"
   ]
  },
  {
   "cell_type": "markdown",
   "metadata": {},
   "source": [
    "### 锁是一个接口，它有哪些实现类，特点是什么，怎么用"
   ]
  },
  {
   "cell_type": "markdown",
   "metadata": {},
   "source": [
    "Lock是一个接口，接口的实现类\n",
    "```java\n",
    "    ReentrantLock\n",
    "    ReentrantReadWriteLock.ReadLock\n",
    "    ReentrantReadWriteLock.WriteLock\n",
    "```\n",
    "\n",
    "**常用的的实现类是: ReentrantLock**"
   ]
  },
  {
   "cell_type": "markdown",
   "metadata": {},
   "source": [
    "AQS使用一个Volatile的int类型的成员变量state来表示同步状态，通过内置的FIFO队列来完成资源获取的排队工作，通过CAS完成对State值的修改\n",
    "\n",
    "AQS是一个双向队列"
   ]
  },
  {
   "cell_type": "markdown",
   "metadata": {},
   "source": [
    "**Lock常用的方法 6个**\n",
    "\n",
    "```java\n",
    "// 获取锁  \n",
    "void lock()   \n",
    "\n",
    "// 如果当前线程未被中断，则获取锁，可以响应中断  \n",
    "void lockInterruptibly()   \n",
    "\n",
    "// 返回绑定到此 Lock 实例的新 Condition 实例  \n",
    "Condition newCondition()   \n",
    "\n",
    "// 仅在调用时锁为空闲状态才获取该锁，可以响应中断  \n",
    "boolean tryLock()   \n",
    "\n",
    "// 如果锁在给定的等待时间内空闲，并且当前线程未被中断，则获取锁  \n",
    "boolean tryLock(long time, TimeUnit unit)   \n",
    "\n",
    "// 释放锁  \n",
    "void unlock()\n",
    "    ```"
   ]
  },
  {
   "cell_type": "markdown",
   "metadata": {},
   "source": [
    "**Lock和synchronized的区别**\n",
    "\n",
    "\n",
    "* synchronized是属于jvm层面的的**关键字**,底层通过monitorenter、monitorexit指令实现的；而lock是属于一个**接口**。\n",
    "* synchronized在代码执行异常时或正常执行完毕后，jvm会**自动释放锁**；而lock不行使用lock必须加上异常处理，而且必须在finally块中写上unlock()**手动释放锁**。\n",
    "* synchronized不可中断，只能等待程序执行完毕或者异常退出；而lock可通过interrupt来中断。\n",
    "* synchronized不能精确唤醒指定的线程；而lock可以通过Condition精确唤醒。\n",
    "* synchronized无法判断锁的状态，从而无法知道是否获取锁；而lock可以判断锁的状态。\n"
   ]
  },
  {
   "cell_type": "markdown",
   "metadata": {},
   "source": [
    "### synchronized关键字"
   ]
  },
  {
   "cell_type": "markdown",
   "metadata": {},
   "source": [
    "### synchronized是如何实现锁的（具体是如何实现的/原理是什么）"
   ]
  },
  {
   "cell_type": "markdown",
   "metadata": {},
   "source": [
    "* synchronized是一个重量级锁，实现依赖于JVM 的 monitor 监视器锁。\n",
    "* 主要使用monitorenter和monitorexit指令来实现方法同步和代码块同步。\n",
    "* 在编译的是时候，会将monitorenter指令插入到同步代码块的开始位置，而monitorexit插入方法结束处和异常处，并且每一个monitorenter都有一个与之对应的monitorexit。\n",
    "* 任何对象都有一个monitor与之关联，当一个monitor被持有后，它将被处于锁定状态，线程执行到monitorenter指令时间，会尝试获取对象所对应的monitor的所有权，即获取获得对象的锁，由于在编译期会将monitorexit插入到方法结束处和异常处，所以在方法执行完毕或者出现异常的情况会自动释放锁。"
   ]
  },
  {
   "cell_type": "markdown",
   "metadata": {},
   "source": [
    "**synchronized通过Monitor来实现线程同步，Monitor是依赖于底层的操作系统的Mutex Lock（互斥锁）来实现的线程同步。**(1.6前）\n",
    "\n",
    "**synchronized其实是借助Monitor实现的，在加锁时会调用objectMonitor的enter方法，解锁的时候会调用exit方法**"
   ]
  },
  {
   "cell_type": "markdown",
   "metadata": {},
   "source": [
    "* 同步代码块是通过monitorenter和monitorexit来实现，当线程执行到monitorenter的时候要先获得monitor锁，才能执行后面的方法。当线程执行到monitorexit的时候则要释放锁。\n",
    "* 同步方法是通过中设置ACC_SYNCHRONIZED标志来实现，当线程执行有ACC_SYNCHRONI标志的方法，需要获得monitor锁。\n",
    "* 每个对象维护一个加锁计数器，为0表示可以被其他线程获得锁，不为0时，只有当前锁的线程才能再次获得锁。\n",
    "* 同步方法和同步代码块底层都是通过monitor来实现同步的。\n",
    "* 每个对象都与一个monitor相关联，线程可以占有或者释放monitor。\n",
    "\n",
    "\n",
    "链接：https://juejin.cn/post/6844903918653145102\n"
   ]
  },
  {
   "cell_type": "markdown",
   "metadata": {},
   "source": [
    "## 锁升级"
   ]
  },
  {
   "cell_type": "markdown",
   "metadata": {},
   "source": [
    "在1.6之后对synchronized进行锁优化，引入一些锁状态：无状态--> 偏向锁 --> 轻量级锁 --> 重量级锁 <--锁升级，其中锁状态**只能升级不能降级**"
   ]
  },
  {
   "cell_type": "markdown",
   "metadata": {},
   "source": [
    "* **偏向锁**：\n",
    "* 线程通过检查对象头中的Mark Word中 是否存储者指向当前线程ID的偏向锁，如果是，直接修改，如果不是才会考虑锁继续升级"
   ]
  },
  {
   "cell_type": "markdown",
   "metadata": {},
   "source": [
    "* **轻量级锁**：主要是通过自旋的方式去获取锁"
   ]
  },
  {
   "cell_type": "markdown",
   "metadata": {},
   "source": [
    "* **重量级锁**：指当有一个线程获取到锁之后，其他线程想要竞争该资源，会进入阻塞状态"
   ]
  },
  {
   "cell_type": "markdown",
   "metadata": {},
   "source": [
    "### 乐观锁与悲观锁的区别\n"
   ]
  },
  {
   "cell_type": "markdown",
   "metadata": {},
   "source": [
    "<li>乐观锁：在并发下对数据进行修改时保持乐观的态度，认为在自己修改数据的过程中，其他线程不会对同一个数据进行修改，所以不对数据加锁，但是会在最终更新数据前，判断一下这个数据有没有被修改，若没有被修改，才将它更新为自己修改的值；  \n",
    "    如果数据已经被其他线程更新，则根据不同的实现方式执行不同的操作（例如报错或者自动重试）。\n",
    "</li>\n",
    "<br/>\n",
    "\n",
    "<li>悲观锁：在并发下对数据进行修改时保持悲观的态度，认为在自己修改数据的过程中，其他线程也会对数据进行修改，所以在操作前会对数据加锁，在操作完成后才将锁释放，而在释放锁之前，其他线程无法操作数据；\n",
    "    </li>"
   ]
  },
  {
   "cell_type": "markdown",
   "metadata": {},
   "source": [
    "### Java中如何实现乐观锁/悲观锁？  \n",
    "<br/>\n",
    "<li>CAS其实就是乐观锁的一种实现方式</li>\n",
    "    <li>而悲观锁比较典型的就是Java中的synchronized</li>"
   ]
  },
  {
   "cell_type": "markdown",
   "metadata": {},
   "source": [
    "#### CAS实现"
   ]
  },
  {
   "cell_type": "markdown",
   "metadata": {},
   "source": [
    "CAS全称compare and swap——比较并替换，它是并发条件下修改数据的一种机制，包含三个操作数：  \n",
    "<li>需要修改的数据的内存地址（V）；</li>\n",
    "<li>对这个数据的旧预期值（A）；</li>\n",
    "<li>需要将它修改为的值（B）；</li>  \n",
    "\n",
    "**CAS的操作步骤如下**  \n",
    "\n",
    "\n",
    "<li>修改前记录数据的内存地址V；</li>\n",
    "<li>读取数据的当前的值，记录为A；</li>\n",
    "<li>修改数据的值变为B；</li>\n",
    "<li>查看地址V下的值是否仍然为A，<b>若为A，则用B替换它；</b>若地址V下的值<b>不为A</b>，表示在自己修改的过程中，其他的线程对数据进行了修改，则不更新变量的值，而是重新从步骤2开始执行</li>\n"
   ]
  },
  {
   "cell_type": "markdown",
   "metadata": {},
   "source": [
    "### 死锁"
   ]
  },
  {
   "cell_type": "markdown",
   "metadata": {},
   "source": [
    "#### 1. 什么是死锁"
   ]
  },
  {
   "cell_type": "markdown",
   "metadata": {},
   "source": [
    "所谓死锁，是指多个进程在运行过程中因争夺资源而造成的一种僵局，当进程处于这种僵持状态时，若无外力作用，它们都将无法再向前推进。\n",
    "\n",
    "e.g. 有一个线程A，按照先锁X 再获得锁Y 的的顺序获得锁，而在此同时又有另外一个线程B，按照先锁Y 再锁X的顺序获得锁，这样就会造成死锁问题"
   ]
  },
  {
   "cell_type": "markdown",
   "metadata": {},
   "source": [
    "#### 2. 死锁产生的原因"
   ]
  },
  {
   "cell_type": "markdown",
   "metadata": {},
   "source": [
    "a. 竞争资源\n",
    "\n",
    "系统中的资源可以分为两类：\n",
    "* 可剥夺资源，是指某进程在获得这类资源后，该资源可以再被其他进程或系统剥夺，CPU和主存均属于可剥夺性资源；  \n",
    "* 另一类资源是不可剥夺资源，当系统把这类资源分配给某进程后，再不能强行收回，只能在进程用完后自行释放，如磁带机、打印机等。  \n",
    "\n",
    "* 产生死锁中的竞争资源之一指的是竞争不可剥夺资源（例如：系统中只有一台打印机，可供进程P1使用，假定P1已占用了打印机，若P2继续要求打印机打印将阻塞）  \n",
    "* 产生死锁中的竞争资源另外一种资源指的是竞争临时资源（临时资源包括硬件中断、信号、消息、缓冲区内的消息等），通常**消息通信顺序进行不当**，则会产生死锁  \n",
    "\n",
    "b. 进程间推进顺序非法 \n",
    "\n",
    "若P1保持了资源R1,P2保持了资源R2，系统处于不安全状态，因为这两个进程再向前推进，便可能发生死锁  \n",
    "例如，当P1运行到P1：Request（R2）时，将因R2已被P2占用而阻塞；当P2运行到P2：Request（R1）时，也将因R1已被P1占用而阻塞，于是发生进程死锁"
   ]
  },
  {
   "cell_type": "markdown",
   "metadata": {},
   "source": [
    "#### 3. 死锁的4个必要条件"
   ]
  },
  {
   "cell_type": "markdown",
   "metadata": {},
   "source": [
    "1. 互斥条件：进程要求对所分配的资源进行排它性控制，即在一段时间内某资源仅为一进程所占用。\n",
    "2. 请求和保持条件：当进程因请求资源而阻塞时，对已获得的资源保持不放。\n",
    "3. 不剥夺条件：进程已获得的资源在未使用完之前，不能剥夺，只能在使用完时由自己释放。\n",
    "4. 环路等待条件：在发生死锁时，必然存在一个进程--资源的环形链。"
   ]
  },
  {
   "cell_type": "markdown",
   "metadata": {},
   "source": [
    "#### 3. 避免死锁的产生"
   ]
  },
  {
   "cell_type": "markdown",
   "metadata": {},
   "source": [
    "破坏死锁的4个必要条件之一即可打破死锁"
   ]
  },
  {
   "cell_type": "markdown",
   "metadata": {},
   "source": [
    "* 资源一次性分配：一次性分配所有资源，这样就不会再有请求了：（破坏请求条件）\n",
    "* 只要有一个资源得不到分配，也不给这个进程分配其他的资源：（破坏请保持条件）\n",
    "* 可剥夺资源：即当某进程获得了部分资源，但得不到其它资源，则释放已占有的资源（破坏不可剥夺条件）\n",
    "* 资源有序分配法：系统给每类资源赋予一个编号，每一个进程按编号递增的顺序请求资源，释放则相反（破坏环路等待条件）"
   ]
  },
  {
   "cell_type": "markdown",
   "metadata": {},
   "source": [
    "**资源有序分配** \n",
    "\n",
    "1. 以确定顺序获得锁\n",
    "\n",
    "2. 超时放弃"
   ]
  },
  {
   "cell_type": "markdown",
   "metadata": {},
   "source": [
    "### 死锁检测和死锁恢复"
   ]
  },
  {
   "cell_type": "markdown",
   "metadata": {},
   "source": [
    "### 线程池\n",
    "\n",
    "https://juejin.cn/post/6844903889678893063"
   ]
  },
  {
   "cell_type": "markdown",
   "metadata": {},
   "source": [
    "#### 构建线程池\n",
    " \n",
    "\n",
    "```java\n",
    "private static ExecutorService executor = new ThreadPoolExecutor(10, 10,\n",
    "        60L, TimeUnit.SECONDS,\n",
    "        new ArrayBlockingQueue(10));\n",
    "```\n",
    "\n",
    "\n",
    "ThreadPoolExecutor构造器的参数 **7个**  \n",
    "```java\n",
    "\n",
    "public ThreadPoolExecutor(int corePoolSize,\n",
    "                              int maximumPoolSize,\n",
    "                              long keepAliveTime,\n",
    "                              TimeUnit unit,\n",
    "                              BlockingQueue<Runnable> workQueue,\n",
    "                              ThreadFactory threadFactory,\n",
    "                              RejectedExecutionHandler handler) { }\n",
    "```"
   ]
  },
  {
   "cell_type": "markdown",
   "metadata": {},
   "source": [
    "* corePoolSize：核心线程数量，会一直存在，除非allowCoreThreadTimeOut设置为true  \n",
    "* maximumPoolSize：线程池允许的最大线程池数量\n",
    "* keepAliveTime：线程数量超过corePoolSize，空闲线程的最大超时时间\n",
    "* unit：超时时间的单位\n",
    "* workQueue：工作队列，保存未执行的Runnable 任务\n",
    "* threadFactory：创建线程的工厂类\n",
    "* handler：当线程已满，工作队列也满了的时候，会被调用。被用来实现各种拒绝策略。"
   ]
  },
  {
   "cell_type": "markdown",
   "metadata": {},
   "source": [
    "#### 常用的线程池以及使用  \n",
    "\n",
    "2.1 newSingleThreadExecutor\n",
    "\n",
    "创建一个单线程的线程池。这个线程池只有一个线程在工作，也就是相当于单线程串行执行所有任务。如果这个唯一的线程因为异常结束，那么会有一个新的线程来替代它。此线程池保证所有任务的执行顺序按照任务的提交顺序执行。\n",
    "\n",
    "2.2 newFixedThreadPool\n",
    "\n",
    "创建固定大小的线程池。每次提交一个任务就创建一个线程，直到线程达到线程池的最大大小。线程池的大小一旦达到最大值就会保持不变，如果某个线程因为执行异常而结束，那么线程池会补充一个新线程。\n",
    "\n",
    "2.3 newCachedThreadPool\n",
    "\n",
    "创建一个可缓存的线程池。如果线程池的大小超过了处理任务所需要的线程，\n",
    "\n",
    "那么就会回收部分空闲（60秒不执行任务）的线程，当任务数增加时，此线程池又可以智能的添加新线程来处理任务。此线程池不会对线程池大小做限制，线程池大小完全依赖于操作系统（或者说JVM）能够创建的最大线程大小。\n",
    "\n",
    "2.4 newScheduledThreadPool\n",
    "\n",
    "创建一个大小无限的线程池。此线程池支持定时以及周期性执行任务的需求。"
   ]
  },
  {
   "cell_type": "markdown",
   "metadata": {},
   "source": [
    "**为什么不建议使用 Executors静态工厂构建线程池**\n",
    "\n",
    "阿里巴巴Java开发手册，明确指出不允许使用Executors静态工厂构建线程池  \n",
    "原因如下：  \n",
    "线程池不允许使用Executors去创建，而是通过ThreadPoolExecutor的方式，这样的处理方式让写的同学更加明确线程池的运行规则，规避资源耗尽的风险  \n",
    "\n",
    "说明：Executors返回的线程池对象的弊端如下：\n",
    "\n",
    "1：FixedThreadPool 和 SingleThreadPool：   \n",
    "允许的请求队列（底层实现是LinkedBlockingQueue）长度为Integer.MAX_VALUE，可能会堆积大量的请求，从而导致OOM（规避资源耗尽）  \n",
    "2：CachedThreadPool 和 ScheduledThreadPool  \n",
    "允许的创建线程数量为Integer.MAX_VALUE，可能会创建大量的线程，从而导致OOM（规避资源耗尽）。  "
   ]
  },
  {
   "cell_type": "markdown",
   "metadata": {},
   "source": [
    "#### 拒绝策略  \n",
    "当提交任务数大于 corePoolSize 的时候，会优先将任务放到 workQueue 阻塞队列中。当阻塞队列饱和后，会扩充线程池中线程数，直到达到 maximumPoolSize 最大线程数配置。此时，再多余的任务，则会触发线程池的拒绝策略了。总结起来，也就是一句话，**当提交的任务数大于（workQueue.size() + maximumPoolSize ），就会触发线程池的拒绝策略。**"
   ]
  },
  {
   "cell_type": "markdown",
   "metadata": {},
   "source": [
    "* AbortPolicy - 丢弃任务，并抛出拒绝执行 RejectedExecutionException 异常信息。线程池默认的拒绝策略。必须处理好抛出的异常，否则会打断当前的执行流程，影响后续的任务执行。\n",
    "* CallerRunsPolicy - 当触发拒绝策略，只要线程池没有关闭的话，则使用调用线程（也就是启用线程池的那个线程来）直接运行任务。一般并发比较小，性能要求不高，不允许失败。但是，由于调用者自己运行任务，如果任务提交速度过快，可能导致程序阻塞，性能效率上必然的损失较大\n",
    "* DiscardPolicy - 直接丢弃，其他啥都没有\n",
    "* DiscardOldestPolicy - 当触发拒绝策略，只要线程池没有关闭的话，丢弃阻塞队列 workQueue 中最老的一个任务，并将新任务加入"
   ]
  },
  {
   "cell_type": "markdown",
   "metadata": {},
   "source": [
    "## 设计模式"
   ]
  },
  {
   "cell_type": "markdown",
   "metadata": {},
   "source": [
    "什么是代理模式：指的是为其他对象提供代理，以控制这个对象的访问权限；  \n",
    "作用：\n",
    "   1. 控制访问\n",
    "   2. 功能增强"
   ]
  },
  {
   "cell_type": "markdown",
   "metadata": {},
   "source": [
    "#### 1. 静态代理"
   ]
  },
  {
   "cell_type": "markdown",
   "metadata": {},
   "source": [
    "静态代理是指，代理类在程序运行前就已经定义好.java 源文件，**其与目标类的关系在\n",
    "程序运行前就已经确立。** 在程序运行前代理类已经编译为.class 文件"
   ]
  },
  {
   "cell_type": "markdown",
   "metadata": {},
   "source": [
    "静态代理的优缺点：\n",
    "\n",
    "* 优点：业务类只需要关注业务逻辑本身，保证了业务类的重用性\n",
    "\n",
    "\n",
    "* 缺点：\n",
    "    1. 代理对象的一个接口只服务于一种类型的对象，如果要代理的方法很多，势必要为每一种方法都进行代理，静态代理在程序规模稍大时就无法胜任了。 \n",
    "    2. 如果接口增加一个方法，除了所有实现类需要实现这个方法外，所有代理类也需要实现此方法。增加了代码维护的复杂度。 "
   ]
  },
  {
   "cell_type": "markdown",
   "metadata": {},
   "source": [
    "#### 2. 动态代理"
   ]
  },
  {
   "cell_type": "markdown",
   "metadata": {},
   "source": [
    "动态代理是指**代理类对象在程序运行时由 JVM 根据反射机制动态生成的。** 动态代理不\n",
    "需要定义代理类的.java 源文件。\n",
    "动态代理其实就是 jdk 运行期间， 动态创建 class 字节码并加载到 JVM。\n",
    "动态代理的实现方式常用的有两种：使用 JDK 代理代理，与通过 CGLIB 动态代理"
   ]
  },
  {
   "cell_type": "markdown",
   "metadata": {},
   "source": [
    "JDK动态代理：基于java的反射机制实现的，使用jdk中接口和类实现代理对象的动态创建。**jdk的动态代理要求目标对象必须实现接口，这是java设计上的要求**"
   ]
  },
  {
   "cell_type": "markdown",
   "metadata": {},
   "source": [
    "CGLIB动态代理：要求目标类能够被继承即可，即不能是final类"
   ]
  },
  {
   "cell_type": "markdown",
   "metadata": {},
   "source": [
    "## static, abstract, final关键字"
   ]
  },
  {
   "cell_type": "markdown",
   "metadata": {},
   "source": [
    "**static修饰范围：**  \n",
    "1. 内部类\n",
    "2. 方法\n",
    "3. 代码块\n",
    "4. 属性\n",
    "\n",
    "\n",
    "**static 方法不能兼容this关键字**"
   ]
  },
  {
   "cell_type": "markdown",
   "metadata": {},
   "source": [
    "**abstract修饰范围：**  \n",
    "1. 类\n",
    "2. 方法\n",
    "\n",
    "**abstract不能和final同时使用**"
   ]
  },
  {
   "cell_type": "markdown",
   "metadata": {},
   "source": [
    "**final**修饰范围：  \n",
    "1. 类\n",
    "2. 方法\n",
    "3. 属性"
   ]
  },
  {
   "cell_type": "markdown",
   "metadata": {},
   "source": [
    "## 接口限流的方法"
   ]
  },
  {
   "cell_type": "markdown",
   "metadata": {},
   "source": [
    "* 固定窗口限流\n",
    "* 滑动窗口限流\n",
    "* 漏桶算法\n",
    "* 令牌桶算法"
   ]
  },
  {
   "cell_type": "markdown",
   "metadata": {},
   "source": [
    "**固定窗口限流**：首先维护一个计数器，将单位时间段当做一个窗口，计数器记录这个窗口接收请求的次数。\n",
    "\n",
    "* 当次数少于限流阀值，就允许访问，并且计数器+1\n",
    "* 当次数大于限流阀值，就拒绝访问。\n",
    "* 当前的时间窗口过去之后，计数器清零。"
   ]
  },
  {
   "cell_type": "markdown",
   "metadata": {},
   "source": [
    "**滑动窗口限流**：将单位时间周期分为n个小周期，分别记录每个小周期内接口的访问次数，并且根据时间滑动删除过期的小周期。\n"
   ]
  },
  {
   "cell_type": "markdown",
   "metadata": {},
   "source": [
    "**漏桶算法**：可以看做是注水漏水的过程。往漏桶中以任意速率流入水，以固定的速率流出水。当水超过桶的容量时，会被溢出，也就是被丢弃。因为桶容量是不变的，保证了整体的速率。\n",
    "* 流入的水滴，可以看作是访问系统的请求，这个流入速率是不确定的。\n",
    "* 桶的容量一般表示系统所能处理的请求数。\n",
    "* 如果桶的容量满了，就达到限流的阀值，就会丢弃水滴（拒绝请求）\n",
    "* 流出的水滴，是恒定过滤的，对应服务按照固定的速率处理请求。"
   ]
  },
  {
   "cell_type": "markdown",
   "metadata": {},
   "source": [
    "**令牌桶算法**：\n",
    "* 有一个令牌管理员，根据限流大小，定速往令牌桶里放令牌。\n",
    "* 如果令牌数量满了，超过令牌桶容量的限制，那就丢弃。\n",
    "* 系统在接受到一个用户请求时，都会先去令牌桶要一个令牌。如果拿到令牌，那么就处理这个请求的业务逻辑；\n",
    "* 如果拿不到令牌，就直接拒绝这个请求。\n"
   ]
  },
  {
   "cell_type": "markdown",
   "metadata": {},
   "source": [
    "**令牌桶算法VS漏桶算法**\n",
    "\n",
    "\n",
    "**漏桶**\n",
    "\n",
    "* 漏桶的出水速度是恒定的，那么意味着如果瞬时大流量的话，将有大部分请求被丢弃掉（也就是所谓的溢出）。\n",
    "\n",
    "**令牌桶**\n",
    "\n",
    "* 生成令牌的速度是恒定的，而请求去拿令牌是没有速度限制的。这意味，面对瞬时大流量，该算法可以在短时间内请求拿到大量令牌，而且拿令牌的过程并不是消耗很大的事情。"
   ]
  },
  {
   "cell_type": "markdown",
   "metadata": {},
   "source": []
  },
  {
   "cell_type": "markdown",
   "metadata": {},
   "source": []
  },
  {
   "cell_type": "markdown",
   "metadata": {},
   "source": []
  },
  {
   "cell_type": "markdown",
   "metadata": {},
   "source": []
  },
  {
   "cell_type": "markdown",
   "metadata": {},
   "source": []
  },
  {
   "cell_type": "markdown",
   "metadata": {},
   "source": []
  },
  {
   "cell_type": "markdown",
   "metadata": {},
   "source": []
  },
  {
   "cell_type": "markdown",
   "metadata": {},
   "source": []
  },
  {
   "cell_type": "markdown",
   "metadata": {},
   "source": []
  },
  {
   "cell_type": "markdown",
   "metadata": {},
   "source": []
  },
  {
   "cell_type": "markdown",
   "metadata": {},
   "source": []
  },
  {
   "cell_type": "markdown",
   "metadata": {},
   "source": []
  },
  {
   "cell_type": "markdown",
   "metadata": {},
   "source": []
  },
  {
   "cell_type": "markdown",
   "metadata": {},
   "source": []
  },
  {
   "cell_type": "markdown",
   "metadata": {},
   "source": []
  },
  {
   "cell_type": "markdown",
   "metadata": {},
   "source": []
  },
  {
   "cell_type": "markdown",
   "metadata": {},
   "source": []
  },
  {
   "cell_type": "markdown",
   "metadata": {},
   "source": []
  },
  {
   "cell_type": "markdown",
   "metadata": {},
   "source": []
  },
  {
   "cell_type": "markdown",
   "metadata": {},
   "source": []
  },
  {
   "cell_type": "markdown",
   "metadata": {},
   "source": []
  },
  {
   "cell_type": "markdown",
   "metadata": {},
   "source": []
  },
  {
   "cell_type": "markdown",
   "metadata": {},
   "source": []
  },
  {
   "cell_type": "markdown",
   "metadata": {},
   "source": []
  }
 ],
 "metadata": {
  "kernelspec": {
   "display_name": "Python 3",
   "language": "python",
   "name": "python3"
  },
  "language_info": {
   "codemirror_mode": {
    "name": "ipython",
    "version": 3
   },
   "file_extension": ".py",
   "mimetype": "text/x-python",
   "name": "python",
   "nbconvert_exporter": "python",
   "pygments_lexer": "ipython3",
   "version": "3.7.3"
  }
 },
 "nbformat": 4,
 "nbformat_minor": 2
}
