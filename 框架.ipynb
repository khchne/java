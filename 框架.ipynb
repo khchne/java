{
 "cells": [
  {
   "cell_type": "markdown",
   "metadata": {},
   "source": [
    "## SpringBoot和SpringMVC的区别"
   ]
  },
  {
   "cell_type": "markdown",
   "metadata": {},
   "source": [
    "* Springboot和springMVC都属于spring家族，springMVC是spring的一个WEB框架，提供了一种轻度耦合的方式来开发web应用，让开发变得容易。  \n",
    "* 由于使用Spring开发需要进行大量的配置，各类xml文件  \n",
    "* 而SpringBoot实现了自动配置，降低了搭建项目的复杂度。Spring Boot只是承载者，辅助你简化项目搭建过程的  \n",
    "* Spring Boot本身并不提供Spring框架的核心特性以及扩展功能，只是用于快速、敏捷地开发新一代基于Spring框架的应用程序"
   ]
  },
  {
   "cell_type": "markdown",
   "metadata": {},
   "source": [
    "用最简练的语言概括就是：\n",
    "\n",
    "Spring 是一个“引擎”；\n",
    "\n",
    "Spring MVC 是基于Spring的一个 MVC 框架 ；\n",
    "\n",
    "Spring Boot 是基于Spring4的条件注册的一套快速开发整合包。"
   ]
  },
  {
   "cell_type": "markdown",
   "metadata": {},
   "source": [
    "如果项目中使用SpringBoot搭建，用到MVC框架，工作流程还是和MVC完全一样，SpringBoot只是简化项目的搭建。"
   ]
  },
  {
   "cell_type": "markdown",
   "metadata": {},
   "source": [
    "## 为什么用SpringBoot"
   ]
  },
  {
   "cell_type": "markdown",
   "metadata": {},
   "source": [
    "1. 简化项目的配置，让项目构建更加简单\n",
    "2. 通过控制反转和依赖注入实现松耦合\n",
    "3. 支持面向切面的编程，并且把应用业务逻辑和系统服务分开"
   ]
  },
  {
   "cell_type": "markdown",
   "metadata": {},
   "source": []
  },
  {
   "cell_type": "markdown",
   "metadata": {},
   "source": [
    "## IoC和AOP"
   ]
  },
  {
   "cell_type": "markdown",
   "metadata": {},
   "source": [
    "**IoC:** IoC指的是控制反转，是一种思想；指的是将创建对象，管理对象的权利交由Spring来控制，当我们需要使用这些对象时，直接从Spring容器中取即可；  \n",
    "\n",
    "IoC指将传统上由程序代码直接操控的对象调用权交给容器，通过容器来实现对象的装配和管理。控制反转就是对对象控制权的转移，从程序代码本身反转到了外部容器。 通过容器实现对象的创建，属性赋值，依赖的管理。\n",
    "\n",
    "IoC的实现方式有多种多样，其中DI(Dependency Injection)依赖注入就是IoC的一种实现方式"
   ]
  },
  {
   "cell_type": "markdown",
   "metadata": {},
   "source": [
    "#### IoC和DI之间的关系"
   ]
  },
  {
   "cell_type": "markdown",
   "metadata": {},
   "source": [
    "Spring 框架使用依赖注入（DI）实现 IoC"
   ]
  },
  {
   "cell_type": "markdown",
   "metadata": {},
   "source": [
    "**IoC的优点：**降低了组件之间的耦合，降低了业务对象之间替换的复杂性，使之能够灵活的管理对象。"
   ]
  },
  {
   "cell_type": "markdown",
   "metadata": {},
   "source": [
    "### AOP"
   ]
  },
  {
   "cell_type": "markdown",
   "metadata": {},
   "source": [
    "**AOP：**面向切面编程，就是将交叉业务逻辑封装成切面，利用 AOP 容器的功能将切面织入到\n",
    "主业务逻辑中。\n",
    "\n",
    "\n",
    "例如，转账，在真正转账业务逻辑前后，需要权限控制、日志记录、加载事务、结束事\n",
    "务等交叉业务逻辑，而这些业务逻辑与主业务逻辑间并无直接关系。但，它们的代码量所占\n",
    "比重能达到总代码量的一半甚至还多。它们的存在，不仅产生了大量的“冗余”代码，还大\n",
    "大干扰了主业务逻辑---转账。"
   ]
  },
  {
   "cell_type": "markdown",
   "metadata": {},
   "source": [
    "使用AOP的优点：\n",
    "<li>\n",
    "    用 AOP可以对业务逻辑的各个部分进行隔离，从而使得业务逻辑各部分之间的耦合度降低，提高程序的可重用性，同时提高了开发的效率。\n",
    "</li>"
   ]
  },
  {
   "cell_type": "markdown",
   "metadata": {},
   "source": [
    "### Spring 框架中用到了哪些设计模式"
   ]
  },
  {
   "cell_type": "markdown",
   "metadata": {},
   "source": [
    "工厂模式\n",
    "\n",
    "单例模式\n",
    "\n"
   ]
  },
  {
   "cell_type": "markdown",
   "metadata": {},
   "source": [
    "## 设置多语言环境"
   ]
  },
  {
   "cell_type": "markdown",
   "metadata": {},
   "source": [
    "* 主要的思想是通过一个**拦截器和i18n**\n",
    "* 通过LocaleResolver 可以设置默认的语言环境\n",
    "* 然后通过参数设置语言lang\n",
    "* https://www.cnblogs.com/yanghj/p/13692334.html"
   ]
  }
 ],
 "metadata": {
  "kernelspec": {
   "display_name": "Python 3",
   "language": "python",
   "name": "python3"
  },
  "language_info": {
   "codemirror_mode": {
    "name": "ipython",
    "version": 3
   },
   "file_extension": ".py",
   "mimetype": "text/x-python",
   "name": "python",
   "nbconvert_exporter": "python",
   "pygments_lexer": "ipython3",
   "version": "3.7.3"
  }
 },
 "nbformat": 4,
 "nbformat_minor": 2
}
