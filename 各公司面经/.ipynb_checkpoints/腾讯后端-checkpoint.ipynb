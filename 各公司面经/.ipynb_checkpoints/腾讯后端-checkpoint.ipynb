{
 "cells": [
  {
   "cell_type": "markdown",
   "metadata": {},
   "source": [
    "# 3.11光子工作室游戏后端开发"
   ]
  },
  {
   "cell_type": "markdown",
   "metadata": {},
   "source": [
    "### 1. 如何提高QPS/请求数"
   ]
  },
  {
   "cell_type": "markdown",
   "metadata": {},
   "source": [
    "https://juejin.cn/post/6844903991336402958#heading-8"
   ]
  },
  {
   "cell_type": "markdown",
   "metadata": {},
   "source": [
    "通过Nginx负载均衡将不同的请求打到不同的Tomcat中"
   ]
  },
  {
   "cell_type": "markdown",
   "metadata": {},
   "source": [
    "### 2. 如何负载均衡"
   ]
  },
  {
   "cell_type": "markdown",
   "metadata": {},
   "source": [
    "**1. 轮询法**\n",
    "* 每一次把来自用户的请求轮流分配给内部中的服务器，从1开始，直到N(内部服务器个数)，然后重新开始循环。\n",
    "\n",
    "**缺点：**\n",
    "* 忽略了不同结点的负载能力"
   ]
  },
  {
   "cell_type": "markdown",
   "metadata": {},
   "source": [
    "**2. 随机法**\n",
    "* 通过系统随机函数，根据后端服务器列表的大小值来随机选择其中一台进行访问"
   ]
  },
  {
   "cell_type": "markdown",
   "metadata": {},
   "source": [
    "**3. 源地址哈希法**\n",
    "* 获取客户端访问的IP地址值，通过哈希函数计算得到一个数值，用该数值对服务器列表的大小进行取模运算，得到的结果便是要访问的服务器的序号\n",
    "\n",
    "**缺点：**\n",
    "* 当有结点宕机或者下线时，原哈希失效，容易导致（缓存失效）缓存雪崩等问题"
   ]
  },
  {
   "cell_type": "markdown",
   "metadata": {},
   "source": [
    "**4. 加权轮询法**\n",
    "* 与轮询算法相同，只是对不同的结点赋予不同的权重，权重越大，接受的请求越多"
   ]
  },
  {
   "cell_type": "markdown",
   "metadata": {},
   "source": [
    "**5. 加权随机法**\n",
    "* 与随机法相同，只是对不同的结点赋予不同的权重，权重大的，概率高"
   ]
  },
  {
   "cell_type": "markdown",
   "metadata": {},
   "source": [
    "**6. 最小连接数法**\n",
    "* 动态地选取其中当前积压连接数最少的一台服务器来处理当前请求，尽可能地提高后端服务器的利用效率，将负载合理地分流到每一台机器"
   ]
  },
  {
   "cell_type": "markdown",
   "metadata": {},
   "source": [
    "### 2-2. 一致性哈希算法\n",
    "* 首先有一个圆环，环上可以分布$0-2^{32}$ 的数；\n",
    "* 接着将已有的结点通过哈希算法（如对ip取模）映射到环中的结点\n",
    "* 然后对于请求，按照同样的哈希算法，取模得到的结果，按照顺时针的方式落到相应的结点（或者是下一个结点）"
   ]
  },
  {
   "cell_type": "markdown",
   "metadata": {},
   "source": [
    "### 2-3. 如果有一个结点宕机了，怎么办"
   ]
  },
  {
   "cell_type": "markdown",
   "metadata": {},
   "source": [
    "* 如果有结点宕机了，影响的范围其实并没有 **仅仅用哈希算法** 的那么大，它只会影响前一个结点到该结点区间的请求；\n",
    "* 这些请求就会落到该结点的下一个结点；\n",
    "* 但是其他的结点都是正常工作的，缓存也不会失效"
   ]
  },
  {
   "cell_type": "markdown",
   "metadata": {},
   "source": [
    "![](../img/hash.png)"
   ]
  },
  {
   "cell_type": "markdown",
   "metadata": {},
   "source": [
    "### 2-3一致性哈希算法的虚结点"
   ]
  },
  {
   "cell_type": "markdown",
   "metadata": {},
   "source": [
    "* 当环中的结点过少时，容易出现**数据倾斜的问题** \n",
    "* 这样的话，可以对一个结点计算多个哈希值，然后在每个计算结果中放置一个服务结点（当然该结点是不存在的）\n",
    "* 然后再按照同样的哈希取模的方式，如果结果落到某个具体结点的虚结点中，那么这个请求具体是分配到该实际结点中"
   ]
  },
  {
   "cell_type": "markdown",
   "metadata": {},
   "source": [
    "![](../img/hash-v.png)"
   ]
  },
  {
   "cell_type": "markdown",
   "metadata": {},
   "source": [
    "### 3. 分布式算法"
   ]
  },
  {
   "cell_type": "markdown",
   "metadata": {},
   "source": []
  },
  {
   "cell_type": "markdown",
   "metadata": {},
   "source": []
  },
  {
   "cell_type": "markdown",
   "metadata": {},
   "source": [
    "### 4. 分布式缓存"
   ]
  },
  {
   "cell_type": "markdown",
   "metadata": {},
   "source": []
  },
  {
   "cell_type": "markdown",
   "metadata": {},
   "source": []
  },
  {
   "cell_type": "markdown",
   "metadata": {},
   "source": []
  },
  {
   "cell_type": "markdown",
   "metadata": {},
   "source": []
  },
  {
   "cell_type": "markdown",
   "metadata": {},
   "source": [
    "## 5. 分布式事务"
   ]
  },
  {
   "cell_type": "markdown",
   "metadata": {},
   "source": [
    "**分布式事务**指的就是由多个事务组成的，跨越了多个结点，这些事务要么同时成功，要么同时失败"
   ]
  },
  {
   "cell_type": "markdown",
   "metadata": {},
   "source": [
    "### 如何保证分布式事务的原子性 / 数据一致性"
   ]
  },
  {
   "cell_type": "markdown",
   "metadata": {},
   "source": [
    "**方法：**\n",
    "1. 2PC（俩阶段提交）：依赖 数据库本身的commit和rollback\n",
    "2. 2PC的改进\n",
    "3. 3PC（三阶段提交）：依赖 数据库本身的commit和rollback\n",
    "4. TCC（补偿事务）：业务层面或者是应用层的两阶段提交。Try、Confirm、Cancel\n",
    "5. 消息事务+最终一致性"
   ]
  },
  {
   "cell_type": "markdown",
   "metadata": {},
   "source": [
    "**2PC**:引入了一个事务协调者角色，来管理各个参与者（就是各数据库资源）。\n",
    "\n",
    "整体分为两个阶段，分别是**准备**阶段和**提交/回滚**阶段\n",
    "\n",
    "* 如果所有的资源数据库在准备阶段都正常返回成功，则事务协调者会通知所有的资源数据库进行 commit;\n",
    "* 如果在准备阶段，存在有某个资源数据库超时或者失败，则所有资源数据库都需要rollback;"
   ]
  },
  {
   "cell_type": "markdown",
   "metadata": {},
   "source": [
    "**缺点：**同步阻塞、单点故障和数据不一致\n",
    "* **同步阻塞**：在第一阶段执行了准备命令后，**每个本地资源都处于锁定状态**，因为除了事务的提交之外啥都做了。\n",
    "* **单点故障：**如果协调者挂了整个事务就执行不下去了；\n",
    "* **数据不一致**：由于网络问题，有的资源数据库收到了命令，有的没有"
   ]
  },
  {
   "cell_type": "markdown",
   "metadata": {},
   "source": [
    "**3PC**：2PC的一个改进，在2PC的最开始，加入一个预准备阶段；\n",
    "* CanCommit：协调者向所有参与者发送CanCommit命令，询问是否可以执行事务提交操作。如果全部响应YES则进入下一个阶段。\n",
    "* PreCommit：同2PC\n",
    "* DoCommit：同2PC\n",
    "* 另外一个改进的地方就是，对参与者（也就是资源数据库）也引入了超时机制，这样在协调者挂了的情况下，如果已经到了提交阶段了，参与者等半天没收到协调者的情况的话就会自动提交事务（但是如果要rollback，就会数据不一致）"
   ]
  },
  {
   "cell_type": "markdown",
   "metadata": {},
   "source": [
    "**TCC**：对于每一个操作，都要注册一个Try和Cancel操作，用来预操作和取消预操作的资源\n",
    "* Try：对资源进行检查并且，预留一部分需要使用的资源；返回对资源预处理的结果（成功or失败）\n",
    "* Commit：如果所有的预处理都返回成功，则对所有的资源数据库进行commit操作；\n",
    "* Cancel：如果有一个失败了，那么全部取消预留资源的操作，并且释放预留的资源；\n",
    "* https://www.cnblogs.com/jajian/p/10014145.html"
   ]
  },
  {
   "cell_type": "markdown",
   "metadata": {},
   "source": [
    "**缺点**：对业务的侵入程度比较大，一个业务方法需要拆分成3个"
   ]
  },
  {
   "cell_type": "markdown",
   "metadata": {},
   "source": [
    "![](../img/tcc.png)"
   ]
  },
  {
   "cell_type": "markdown",
   "metadata": {},
   "source": [
    "**消息事务+最终一致性**：利用消息中间件，进行事务的异步同步过程；\n",
    "* 首先，系统A发送预备消息给中间价，中间价保留预备消息并返回保存成功的消息给系统A；（如果失败，A的事务不会执行）\n",
    "* 接着，A执行本地事务并且将执行的结果发送给中间价，如果A系统commit，则把消息放入队列中，等待被消费；（如果A失败，则中间价会丢弃消息）\n",
    "* 最后，系统B执行本地事务，直到成功"
   ]
  },
  {
   "cell_type": "markdown",
   "metadata": {},
   "source": [
    "![](../img/MQandTran.png)"
   ]
  },
  {
   "cell_type": "markdown",
   "metadata": {},
   "source": [
    "### 6. 进程线程的区别"
   ]
  },
  {
   "cell_type": "markdown",
   "metadata": {},
   "source": []
  },
  {
   "cell_type": "markdown",
   "metadata": {},
   "source": [
    "### 6-2 一个进程的多个线程共享同一个fd吗？"
   ]
  },
  {
   "cell_type": "markdown",
   "metadata": {},
   "source": []
  },
  {
   "cell_type": "markdown",
   "metadata": {},
   "source": [
    "### 7. TCP, UDP区别"
   ]
  },
  {
   "cell_type": "markdown",
   "metadata": {},
   "source": []
  },
  {
   "cell_type": "markdown",
   "metadata": {},
   "source": []
  },
  {
   "cell_type": "markdown",
   "metadata": {},
   "source": [
    "### 8. TCP三次握手，为什么3次，更深层次的原因"
   ]
  },
  {
   "cell_type": "markdown",
   "metadata": {},
   "source": []
  },
  {
   "cell_type": "markdown",
   "metadata": {},
   "source": []
  },
  {
   "cell_type": "markdown",
   "metadata": {},
   "source": [
    "### 9. TCP粘包，TCP半打开"
   ]
  },
  {
   "cell_type": "markdown",
   "metadata": {},
   "source": []
  },
  {
   "cell_type": "markdown",
   "metadata": {},
   "source": []
  },
  {
   "cell_type": "markdown",
   "metadata": {},
   "source": [
    "### 10. 乐观锁，ABA问题的场景，ABA的影响"
   ]
  },
  {
   "cell_type": "markdown",
   "metadata": {},
   "source": []
  },
  {
   "cell_type": "markdown",
   "metadata": {},
   "source": []
  },
  {
   "cell_type": "markdown",
   "metadata": {},
   "source": [
    "### ABA问题的实际场景"
   ]
  },
  {
   "cell_type": "markdown",
   "metadata": {},
   "source": [
    "**多线程给玩家充钱**：如果玩家的账户余额6.66，奖励玩家100    \n",
    "* 现在有多个线程要给玩家充钱\n",
    "* Thread1 去查询的时候，发现是6.66，准备给玩家冲100；\n",
    "* 此时，Thread1被挂起；\n",
    "* Thread2 去查询，发现也是6.66，立刻冲了100，且成功了；\n",
    "* 此时，玩家发现正好购买了100块的东西，账户又剩下6.66\n",
    "* Thread1 要提交的时候发现还是6.66继续冲钱"
   ]
  },
  {
   "cell_type": "markdown",
   "metadata": {},
   "source": [
    "那么这样，此6.66非彼6.66，出现了一个用户2次获奖的情况"
   ]
  }
 ],
 "metadata": {
  "kernelspec": {
   "display_name": "Python 3",
   "language": "python",
   "name": "python3"
  },
  "language_info": {
   "codemirror_mode": {
    "name": "ipython",
    "version": 3
   },
   "file_extension": ".py",
   "mimetype": "text/x-python",
   "name": "python",
   "nbconvert_exporter": "python",
   "pygments_lexer": "ipython3",
   "version": "3.7.3"
  }
 },
 "nbformat": 4,
 "nbformat_minor": 2
}
