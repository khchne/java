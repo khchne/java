{
 "cells": [
  {
   "cell_type": "markdown",
   "metadata": {},
   "source": [
    "## 文件描述符"
   ]
  },
  {
   "cell_type": "markdown",
   "metadata": {},
   "source": [
    "文件描述符是一个整数；  \n",
    "所谓的文件描述符其实就是文件指针数组的Index，在这个文件指针数据中，前三位被填入默认值，分别指向标准输入流、标准输出流、标准错误流，分别是0，1，2"
   ]
  },
  {
   "cell_type": "markdown",
   "metadata": {},
   "source": [
    "![img](img/file.jpg)"
   ]
  },
  {
   "cell_type": "markdown",
   "metadata": {},
   "source": [
    "### 1. 日志\n",
    "* **/var (/log)**下用于存放运行时需要改变数据的文件，也是某些大文件的溢出区，比方说**各种服务的日志文件**（系统启动日志等。）等；  \n",
    "查看日志的命令和查看文件的命令是一样的：  \n",
    "\n",
    "\n",
    "1. 查看日志常用命令  \n",
    "    **tail:**  \n",
    "       -n  是显示行号；相当于nl命令；例子如下：\n",
    "            tail -100f test.log      实时监控100行日志\n",
    "            tail  -n  10  test.log   查询日志尾部最后10行的日志;\n",
    "            tail -n +10 test.log    查询10行之后的所有日志;\n",
    "\n",
    "    **head:**  \n",
    "        跟tail是相反的，tail是看后多少行日志；例子如下：\n",
    "\n",
    "            head -n 10  test.log   查询日志文件中的头10行日志;\n",
    "\n",
    "            head -n -10  test.log   查询日志文件除了最后10行的其他所有日志;\n",
    "\n",
    "    **cat：** \n",
    "        tac是倒序查看，是cat单词反写；例子如下：\n",
    "\n",
    "            cat -n test.log | grep \"debug\"   查询关键字的日志\n",
    "\n",
    " \n",
    "\n",
    "2. 应用场景一：按行号查看---**过滤出关键字附近的日志**\n",
    "\n",
    "     1）cat -n test.log |grep \"debug\"  得到关键日志的行号\n",
    "\n",
    "     2）cat -n test.log |tail -n +92|head -n 20  选择关键字所在的中间一行. 然后查看这个关键字前10行和后10行的日志:\n",
    "\n",
    "            tail -n +92表示查询92行之后的日志\n",
    "\n",
    "            head -n 20 则表示在前面的查询结果里再查前20条记录\n",
    "\n",
    " \n",
    "\n",
    "3. 应用场景二：**根据日期查询日志**\n",
    "\n",
    "      sed -n '/2014-12-17 16:17:20/,/2014-12-17 16:17:36/p'  test.log\n",
    "\n",
    "      特别说明:上面的两个日期必须是日志中打印出来的日志,否则无效；\n",
    "        先 grep '2014-12-17 16:17:20' test.log 来确定日志中是否有该 时间点\n",
    "        所选择要过滤的时间要和日志所用的时间一样\n",
    "\n",
    " \n",
    "\n",
    "4. 应用场景三：日志内容特别多，打印在屏幕上不方便查看\n",
    "    (1)使用more和less命令,\n",
    "\n",
    "           如： cat -n test.log |grep \"debug\" |more     这样就分页打印了,通过点击空格键翻页\n",
    "\n",
    "    (2)使用 >xxx.txt 将其保存到文件中,到时可以拉下这个文件分析\n",
    "\n",
    "            如：cat -n test.log |grep \"debug\"  >debug.txt"
   ]
  },
  {
   "cell_type": "markdown",
   "metadata": {},
   "source": [
    "### 2. 各个目录的含义\n"
   ]
  },
  {
   "cell_type": "markdown",
   "metadata": {},
   "source": [
    "![](img/linux-file.png)"
   ]
  },
  {
   "cell_type": "markdown",
   "metadata": {},
   "source": [
    "### 3. linux中查看一个文件中某个关键字出现的次数\n",
    "* grep -o 'KeyWord' 03.txt | wc -l\n",
    "* grep -o \"keyWord\" fileName | wc -l"
   ]
  },
  {
   "cell_type": "markdown",
   "metadata": {},
   "source": [
    "### 4. 查看进程\n",
    "* ps -l   列出与本次登录有关的进程信息；\n",
    "* ps -f   查看进程信息，包括父进程ID\n",
    "* ps -aux   查询内存中进程信息；\n",
    "    * a：显示当前终端下的所有进程信息，包括其他用户的进程。\n",
    "\n",
    "    * u：使用以用户为主的格式输出进程信息。\n",
    "\n",
    "    * x：显示当前用户在所有终端下的进程。\n",
    "* ps -aux | grep XXX   查询与XXX进程的详细信息；\n",
    "* top   查看内存中进程的动态信息；\n",
    "* kill -9 pid   杀死进程。"
   ]
  },
  {
   "cell_type": "markdown",
   "metadata": {},
   "source": [
    "![](img/top.png)"
   ]
  },
  {
   "cell_type": "markdown",
   "metadata": {},
   "source": [
    "### 5.创建进程"
   ]
  },
  {
   "cell_type": "markdown",
   "metadata": {},
   "source": [
    "Linux使用**fork()**创建一个子进程，子进程在创建成功后，在子进程中返回 0，**从当前位置开始执行**"
   ]
  },
  {
   "cell_type": "markdown",
   "metadata": {},
   "source": [
    "```c++\n",
    "#include <unistd.h>\n",
    "\n",
    "// 参数\t： void \n",
    "// 返回值： pid_t 创建的子进程ID\n",
    "pid_t fork(void);\n",
    "```"
   ]
  },
  {
   "cell_type": "markdown",
   "metadata": {},
   "source": [
    "返回值：fork() 返回值会返回**两次**，分别在**父进程和子进程**中返回。\n",
    "\n",
    "1. **在父进程中返回子进程的ID，在子进程中返回0**。所以可以通过fork 的返回值来区分父进程与子进程。\n",
    "2. 在父进程中返回 -1 ，表示创建子进程失败，并设置 errorno。如下面两种情况导致创建失败：\n",
    "\n",
    "    * 当前系统的进程数已经达到了系统规定的上限，这时 errno 的值被设置为EAGAIN\n",
    "    * 系统内存不足，这时 errno 的值被设置为 ENOMEM\n"
   ]
  },
  {
   "cell_type": "markdown",
   "metadata": {},
   "source": [
    "在创建子进程时，Linux的fork 是通过 **写时拷贝 (copy-on-write)** 实现；在执行fork语句后，内核并不复制父进程的整个地址空间，而是父子进程共享父进程的地址空间（此时父子进程对于地址空间是**只读指令**），在父进程或者子进程进行**写**指令时，子进程才会复制一份地址空间，从而使得父子进程拥有自己的虚拟地址空间，在自己的地址空间进行写操作。\n",
    "\n",
    "也就是说，**资源的复制是在需要写入时才会进行，在此之前，只会以只读方式进行共享。**\n",
    "\n",
    "**对于文件资源**\n",
    "* 如果在 **fork()之前打开了文件** ，则共享同一个文件偏移；\n",
    "* 如果在 **fork()之后打开文件**，则双方有独立的文件偏移；"
   ]
  },
  {
   "cell_type": "markdown",
   "metadata": {},
   "source": [
    "**查看linux最大进程数**  \n",
    "\n",
    "* cat /proc/sys/fs/file-max　　查看系统级的最大限制\n",
    "* ulimit -n　　查看用户级的限制"
   ]
  },
  {
   "cell_type": "markdown",
   "metadata": {},
   "source": []
  },
  {
   "cell_type": "markdown",
   "metadata": {},
   "source": []
  },
  {
   "cell_type": "markdown",
   "metadata": {},
   "source": []
  }
 ],
 "metadata": {
  "kernelspec": {
   "display_name": "Python 3",
   "language": "python",
   "name": "python3"
  },
  "language_info": {
   "codemirror_mode": {
    "name": "ipython",
    "version": 3
   },
   "file_extension": ".py",
   "mimetype": "text/x-python",
   "name": "python",
   "nbconvert_exporter": "python",
   "pygments_lexer": "ipython3",
   "version": "3.7.3"
  }
 },
 "nbformat": 4,
 "nbformat_minor": 2
}
