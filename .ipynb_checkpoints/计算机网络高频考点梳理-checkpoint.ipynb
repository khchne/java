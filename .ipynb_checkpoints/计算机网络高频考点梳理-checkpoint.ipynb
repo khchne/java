{
 "cells": [
  {
   "cell_type": "markdown",
   "metadata": {},
   "source": [
    "<center><h1>计算机网络高频考点梳理</h1><center>"
   ]
  },
  {
   "cell_type": "markdown",
   "metadata": {},
   "source": [
    "**<li>OSI七层模型与TCP/IP 五层模型</li>**"
   ]
  },
  {
   "cell_type": "markdown",
   "metadata": {},
   "source": [
    "https://blog.csdn.net/liuchengzimozigreat/article/details/100169829?utm_medium=distribute.pc_relevant.none-task-blog-2%7Edefault%7EBlogCommendFromBaidu%7Edefault-5.control&depth_1-utm_source=distribute.pc_relevant.none-task-blog-2%7Edefault%7EBlogCommendFromBaidu%7Edefault-5.control"
   ]
  },
  {
   "cell_type": "markdown",
   "metadata": {},
   "source": [
    "OSI七层：应用层，表示层， 会话层， 传输层， 网络层， 数据链路层， 物理层；  \n",
    "TCP/IP五层：应用层(对应OSI的应用层、表示层、会话层)， 传输层， 网络层， 数据链路层， 物理层。"
   ]
  },
  {
   "cell_type": "markdown",
   "metadata": {},
   "source": [
    "各层对应的协议：  \n",
    "应用层： HTTP, FTP, SMTP, DNS, TFTP  \n",
    "传输层：TCP UDP  \n",
    "网络层：IP ICMP RIP IGMP  \n",
    "数据链路层\n",
    "物理层"
   ]
  },
  {
   "cell_type": "markdown",
   "metadata": {},
   "source": [
    "<li>WebSocket</li>\n",
    "是一种通信协议，可在单个TCP连接上进行全双工通信，可以用在时时交互的情景比如社交订阅、多媒体聊天、协同编辑等;\n",
    "\n",
    "WebSocket 的特点： \n",
    "\n",
    "\n",
    "1、客户端和服务端全双工通信，区别于HTTP协议（HTTP协议只能实现客户端请求，服务端响应的这种单项通信）服务端可以主动将消息推送给客户端。    \n",
    "2、连接完成即可建立持久性连接    \n",
    "3、没有同源限制，客户端可以与任意服务器通信    \n",
    "\n",
    "<p></p>\n",
    "\n",
    "\n",
    "<li>WebSocket连接是在客户端与服务器之间HTTP协议的初始握手阶段将其升级到WebSocket协议来建立的，其底层仍是TCP/IP连接。  </li>\n",
    " \n",
    " \n",
    " \n",
    "  其中，WebSocket的持久性连接和HTTP的持续性连接的区别：  \n",
    "    HTTP的短连接：连接->传输数据->关闭连接   \n",
    "    长连接：连接->传输数据->保持连接 -> 传输数据-> ………..->一方关闭连接  \n",
    "        但是此处的长连接并不是永久的，如果一段时间内（具体的时间可以在header当中进行设置，也就是所谓的超时时间），这个连接没有HTTP请求发出的话，那么这个长连接就会被断掉。\n",
    "       \n",
    "    WebSocket的持续性连接：  \n",
    "        连接->传输数据…… ->直到异常/断开\n",
    "        两边保持连接状态，没有超时时间"
   ]
  },
  {
   "cell_type": "markdown",
   "metadata": {},
   "source": [
    "https://zhuanlan.zhihu.com/p/74326818"
   ]
  },
  {
   "cell_type": "markdown",
   "metadata": {},
   "source": [
    " "
   ]
  },
  {
   "cell_type": "markdown",
   "metadata": {},
   "source": [
    "**$1.$ 应用层**"
   ]
  },
  {
   "cell_type": "markdown",
   "metadata": {},
   "source": [
    "**<li>应用层常见协议，对应的端口</li>**"
   ]
  },
  {
   "cell_type": "markdown",
   "metadata": {},
   "source": [
    "    应用层协议：  \n",
    "        TELNET：远程登录；端口：23 / TCP / CS\n",
    "            用于远程登录：1、在本地计算机上必须装有包含Telnet协议的客户程序；\n",
    "                     2、必须知道远程主机的Ip地址或域名；\n",
    "                     3、必须知道登录标识与口令。\n",
    "</br>\n",
    "\n",
    "        FTP：文件传输协议；端口：21  / TCP / CS\n",
    "            负责将文件从一台计算机传送到另一台计算机上，并且保证其传输的可靠性。\n",
    "            功能：\n",
    "            1、可以从本地上传和从服务器下载文件；\n",
    "            2、能够传输各种类型的文件，包括文件，图片， 视频等；\n",
    "            3、能够提供对本地和远程计算机的目录操作。\n",
    "            4、对文件进行改名删除等操作。\n",
    "</br>\n",
    "\n",
    "        SMTP：简单邮件传输协议；端口：25  / TCP / CS\n",
    "            特点：简单\n",
    "            使用SMTP发送、传输，但是另一端下载时用的是POP3;\n",
    "</br> \n",
    "    \n",
    "        HTTP：超文本传输协议；端口：80  / TCP / CS\n",
    "        DNS：域名解析系统；端口：53 / UDP \n",
    "            处理IP地址和域名之间的转换，解析域名的时候，有递归解析和迭代解析\n",
    "            递归解析：\n",
    "                本地域名服务器-> 根域名服务器-> 顶级域名服务器 -> 权限域名服务器……最后将查询到的结果依次返回\n",
    "                -> 顶级域名服务器 -> 根域名服务器 -> 本地域名服务器\n",
    "            \n",
    "            迭代解析：\n",
    "                本地-> 根\n",
    "                本地-> 顶级\n",
    "                本地-> 权限\n",
    "                ……\n",
    "                直到解析完成\n",
    "             其中高速缓存可以保留一定的域名解析结果，当本地域名服务器中存在相应的IP地址时，不用去查找；\n",
    "            \n",
    "        SNMP：简单网络管理协议；端口：161  / UDP \n",
    "        TFTP：简单文件传输协议；端口：69  / UDP \n",
    "            在UDP之上上建立一个类似于FTP的但仅支持文件上传和下载功能的传输协议，不包含FTP协议中的目录操作和用户权限等内容\n",
    "        "
   ]
  },
  {
   "cell_type": "markdown",
   "metadata": {},
   "source": [
    "## 输入一个URL，到打开网页的过程中发生了什么\n"
   ]
  },
  {
   "cell_type": "markdown",
   "metadata": {},
   "source": [
    "1、URL解析\n",
    "\n",
    "    判断输入的URL的合法性，并根据输入的内容进行字符编码等操作\n",
    "2、DNS解析\n",
    "    \n",
    "    浏览器缓存、操作系统缓存、路由器缓存、本地DNS缓存、查找解析\n",
    "    浏览器会先查看‘浏览器缓存--系统缓存--路由缓存’，如有存在缓存，就直接显示。如果没有，则通过DNS获取相应的IP\n",
    "3、TCP连接\n",
    "\n",
    "    3次握手建立连接\n",
    "4、发送HTTP请求\n",
    "\n",
    "    浏览器向服务器发送http请求，请求数据包\n",
    "5、服务器处理请求并返回HTTP报文\n",
    "\n",
    "    \n",
    "6、浏览器解析渲染页面\n",
    "\n",
    "    \n",
    "    浏览器接收响应，读取页面内容，解析html源码，生成DOM树，解析css样式、浏览器渲染"
   ]
  },
  {
   "cell_type": "markdown",
   "metadata": {},
   "source": [
    "$1.1$ HTTP"
   ]
  },
  {
   "cell_type": "markdown",
   "metadata": {},
   "source": [
    "<li>常见状态码的含义。</li>\n",
    "<li>GET和POST的区别。</li>\n",
    "<li>HTTP/1.1的流水线技术</li>\n",
    "<li>HTTP/2.0了解吗？</li>\n",
    "<li>Session与Cookie的区别</li>\n",
    "<li>幂等性了解吗？</li>\n",
    "<li>跨域产生的原因？如何解决？</li>\n",
    "<li>谈下你对 HTTP 长连接和短连接的理解？分别应用于哪些场景？</li>"
   ]
  },
  {
   "cell_type": "markdown",
   "metadata": {},
   "source": [
    "**<li>常见的状态码的含义</li>**\n",
    "\n",
    "    1xx 请求已经被接受到了，需要进一步处理才能完成（HTTP1.0)不支持\n",
    "        100为继续，表示确认，成功返回具体参数信息\n",
    "        \n",
    "        \n",
    "    2xx 成功处理请求\n",
    "        *200：正常返回信息\n",
    "        \n",
    "        201：请求成功并且服务器创建了新的资源\n",
    "        \n",
    "        202：服务器已接受请求，但尚未处理\n",
    "        \n",
    "        *204：请求成功，但是没有资源返回\n",
    "        \n",
    "        *206：客户端进行了范围请求，服务器成功执行了这部分的GET请求。\n",
    "        \n",
    "    3xx 重定向\n",
    "        *301：永久重定向，永远都定向到b的地址，例子：访问地址a的时候，永远都会定向到地址b\n",
    "        \n",
    "        *302: 临时重定向(一次的)，例子：去访问a地址，返回302,就会自动跳转到b,下次再去访问a地址的时候，还是会访问a\n",
    "        \n",
    "        *303：临时性重定向，查看其它地址，且总是使用 GET请求新的 URI。（明确表示客户端应当采用GET方法获取资源）\n",
    "        \n",
    "        *304: 访问资源未改变，那服务器返回304,并没有返回新的资源，那浏览器就会用自身缓存的资源去用。\n",
    "        \n",
    "        *307：与302含义相同，但是用的是POST方法。\n",
    "        \n",
    "        \n",
    "    4xx 客户端错误\n",
    "        *400 1、语义有误，当前请求无法被服务器理解。2、请求参数有误。 \n",
    "        \n",
    "        *401 第一次表示：当前请求需要用户验证。第二次返回401表示认证失败。\n",
    "        \n",
    "        *403 服务器已经理解请求，但是拒绝执行它。（拒绝执行）\n",
    "        \n",
    "        *404 请求失败，请求所希望得到的资源未被在服务器上发现。（找不到资源）\n",
    "        \n",
    "        \n",
    "    5xx 服务器错误\n",
    "        *500 服务器遇到了一个未曾预料的状况，无法完成对请求的处理，会在程序码出错时出现。（服务器内部错误）\n",
    "\n",
    "        501 服务器不支持当前请求所需要的某个功能。无法识别请求的方法。 （某个功能不支持）\n",
    "\n",
    "        502 作为网关或者代理工作的服务器尝试执行请求时，从上游服务器接收到无效的响应。（代理服务器无法获取到合法响应）\n",
    "\n",
    "        *503 由于临时的服务器维护或者过载，服务器当前无法处理请求。 （服务器尚未准备好，无法处理请求）"
   ]
  },
  {
   "cell_type": "markdown",
   "metadata": {},
   "source": [
    "https://zhuanlan.zhihu.com/p/66062179"
   ]
  },
  {
   "cell_type": "markdown",
   "metadata": {},
   "source": [
    "**<li>GET和POST的区别</li>**\n",
    "    \n",
    "    1、GET和POST\n",
    "    GET：向服务器请求获取资源\n",
    "    POST：用来传输实体主体，即向服务器提交数据\n",
    "    \n",
    "    联系和区别： 这些区别其实主要是由不同的浏览器引起的，GET和POST请求底层还是基于TCP/IP协议的。GET和POST本质上就是TCP链接，并无差别。但是由于HTTP的规定和浏览器/服务器的限制，导致他们在应用过程中体现出一些不同。 \n",
    "        \n",
    "        GET请求是幂等性的，POST请求不是\n",
    "        \n",
    "        GET在浏览器回退时是无害的，而POST会再次提交请求。\n",
    "\n",
    "        GET产生的URL地址可以被Bookmark，而POST不可以。\n",
    "\n",
    "        GET请求会被浏览器主动cache，而POST不会，除非手动设置。\n",
    "\n",
    "        GET请求只能进行url编码，而POST支持多种编码方式。\n",
    "\n",
    "        GET请求参数会被完整保留在浏览器历史记录里，而POST中的参数不会被保留。\n",
    "\n",
    "        GET请求在URL中传送的参数是有长度限制的，而POST么有。\n",
    "\n",
    "        对参数的数据类型，GET只接受ASCII字符，而POST没有限制。\n",
    "\n",
    "        GET比POST更不安全，因为参数直接暴露在URL上，所以不能用来传递敏感信息。\n",
    "\n",
    "        GET参数通过URL传递，POST放在Request body中。\n",
    "        \n",
    "        ***最重要的区别的：对于GET方式的请求，浏览器会把http header和data一并发送出去，服务器响应200（返回数据）；而对于POST，浏览器先发送header，服务器响应100 continue，浏览器再发送data，服务器响应200 ok（返回数据）。\n",
    "        \n",
    "        "
   ]
  },
  {
   "cell_type": "markdown",
   "metadata": {},
   "source": [
    "**<li>幂等性</li>**\n",
    "\n",
    "    幂等性：\n",
    "        就是对资源的操作，执行多次与执行一次对资源的影响是相同的，不会因为执行的次数而产生不同的影响。\n",
    "    \n",
    "    用途：\n",
    "        1、网络波动：\n",
    "        因网络波动，可能会引起重复请求\n",
    "        \n",
    "        2、分布式消息消费：\n",
    "        任务发布后，使用分布式消息服务来进行消费。\n",
    "        \n",
    "        3、用户重复操作：\n",
    "        用户在使用产品时，可能会误操作而触发多笔交易，或者因为长时间没有响应，而有意触发多笔交易。\n",
    "        \n",
    "        4、未关闭的重试机制：\n",
    "        技术人员人为的错误，因开发人员、测试人员或运维人员没有检查出来，而开启的重试机制（如Nginx重试、RPC通信重试或业务层重试等）\n",
    "    \n",
    "    \n",
    "    实现幂等性：\n",
    "        get、detele、put请求天然有幂等性，以下是关于POST的幂等性实现：\n",
    "        1.设置全局ID\n",
    "            根据业务的操作和内容生成一个全局ID。例如，在提交表单前，进入表单页面时，先向服务器端请求生成全局ID的接口，服务器将这个值存于内存中，待用户提交表单时，将这个全局ID附带上，服务器端校验是否存在这个值（一般用删除delete方法，通过返回值判断。采用select+delete容易出现并发问题）,如果存在则运行请求接口。【方案可以，只是实现由点小麻烦】\n",
    "            \n",
    "        2. 添加去重表\n",
    "            这种方法适合于业务中有唯一标识的插入场景中，如对某订单进行支付，订单号即可以作为唯一标识。通过创建一张去重表。这个表将支付的订单号设为唯一索引，第一次请求将支付订单记录插入表中并设置为未支付同时返回给支付系统完成实际支付操作，后续重复请求就会因为唯一索引导致插入失败而不会再走后续的实际支付操作。\n",
    "            \n",
    "        3.采用锁机制（如悲观锁和乐观锁）\n",
    "            悲观锁，就是悲观的认为数据会被改变，在数据修改的过程中始终是加锁的。其他线程无论是读还是写都无法拿到数据。通过for update来进行锁表。\n",
    "            乐观锁，相对悲观锁来讲更为广泛一些，因为乐观锁不依赖数据库，只会在update的一瞬间加锁，其余处理过程中并不加锁。通过版本号来实现。乐观锁每次只会有一个线程执行成功，其他线程因为条件发生了改变，而执行失败，这样就避免了数据覆盖的可能性。\n",
    "            \n",
    "        4. 分布式锁\n",
    "            可以用redis或zookeeper实现分布式锁。\n",
    "    "
   ]
  },
  {
   "cell_type": "markdown",
   "metadata": {},
   "source": [
    "**HTTP/1.1的流水线技术 ？**\n",
    "    \n",
    "* 默认情况下，HTTP 请求是按顺序发出的。**下一个请求只有在当前请求收到应答过后才会被发出** 。由于会受到网络延迟和带宽的限制，在下一个请求被发送到服务器之前，可能需要等待很长时间。\n",
    "\n",
    "* 流水线是在同一条长连接上**发出连续的请求**，而不用等待应答返回。这样可以避免连接延迟。理论上讲，性能还会因为两个 HTTP 请求有可能被打包到一个 TCP 消息包中而得到提升。就算 HTTP 请求不断的继续，尺寸会增加，但设置 TCP 的 MSS(Maximum Segment Size) 选项，仍然足够包含一系列简单的请求。\n",
    "\n",
    "* 并不是所有类型的 HTTP 请求都能用到流水线：只有幂等性 idempotent 方式，比如 GET、HEAD、PUT 和 DELETE 能够被安全的重试：如果有故障发生时，流水线的内容要能被轻易的重试。\n",
    "\n",
    "* 所有遵循 HTTP/1.1 的代理和服务器都应该支持流水线，虽然实际情况中还是有很多限制：一个很重要的原因是，目前没有现代浏览器默认启用这个特性。"
   ]
  },
  {
   "cell_type": "markdown",
   "metadata": {},
   "source": [
    "**<li>HTTP 2.0</li>**\n",
    "\n",
    "* HTTP/2.0是在HTTP1.x的基础上，通过**二进制分帧层**、**多路复用**共享链接、**首部压缩**等技术，形成的新一代网络通信协议，它同时保留了HTTP/1.x中的语义，在应用层上来看几乎没有差别。\n",
    "    \n",
    "    **二进制分帧层：**\n",
    "        二进制分帧层是在应用屋和传输层之间的层次，在二进制分帧层上，HTTP2.0会将所有传输的信息分为更小的消息和帧，并采用二进制格式编码，其中HTTP1.x的首部信息会被封装到Headers帧，而Request Body则封装到Data帧。，\n",
    "    \n",
    "    **多路复用：**（在一个TCP链接上，可以同进发送请求和响应）\n",
    "        基于二进制分帧层，HTTP2.0可以在共享TCP连接的基础上同时发送请求和响应。HTTP消息被分解为独立的帧，而不破坏消息本身的语义，交错发出去，在另一端根据流标识符和首部将他们重新组装起来。 通过该技术，可以避免HTTP旧版本的队头阻塞问题，极大提高传输性能。\n",
    "    \n",
    "    **请求优先级：**（优化即将发出的数据帧，使数据帧按照一定的优先级发出，0的优先级最高，数字越大优先级越小）\n",
    "        把HTTP消息分为很多独立帧之后，就可以通过优化这些帧的交错和传输顺序进一步优化性能。\n",
    "        \n",
    "    **服务端推送：**（这里的服务端推送不是指服务端主动发消息给客户端，与WebSocket不同，这里是指，在客户端的一次请求中，服务器可以向客户端推送额外的资源，有些资源无需客户端的明确请求。\n",
    "        服务器可以对一个客户端请求发送多个响应。服务器向客户端推送资源无需客户端明确的请求。\n",
    "    \n",
    "    **首部压缩：**\n",
    "        使用了HPACK（HTTP2头部压缩算法）压缩格式对传输的header进行编码，减少了header的大小。并在两端维护了索引表，用于记录出现过的\n",
    "        header，后面在传输过程中就可以传输已经记录过的header的键名，对端收到数据后就可以通过键名找到对应的值。\n",
    "    \n"
   ]
  },
  {
   "cell_type": "markdown",
   "metadata": {},
   "source": [
    "https://blog.csdn.net/zhuyiquan/article/details/69257126?utm_medium=distribute.pc_relevant_t0.none-task-blog-2%7Edefault%7EBlogCommendFromMachineLearnPai2%7Edefault-1.control&depth_1-utm_source=distribute.pc_relevant_t0.none-task-blog-2%7Edefault%7EBlogCommendFromMachineLearnPai2%7Edefault-1.control"
   ]
  },
  {
   "cell_type": "markdown",
   "metadata": {},
   "source": [
    "### HTTP1.0和HTTP1.1的一些区别"
   ]
  },
  {
   "cell_type": "markdown",
   "metadata": {},
   "source": [
    "1. **缓存处理**，在HTTP1.0中主要使用header里的If-Modified-Since,Expires来做为缓存判断的标准，HTTP1.1则引入了更多的缓存控制策略例如Entity tag，If-Unmodified-Since, If-Match, If-None-Match等更多可供选择的缓存头来控制缓存策略。\n",
    "                    \n",
    "                    \n",
    "2. **带宽优化及网络连接的使用**，HTTP1.0中，存在一些浪费带宽的现象，例如客户端只是需要某个对象的一部分，而服务器却将整个对象送过来了，并且不支持断点续传功能，HTTP1.1则在请求头引入了range头域，它允许只请求资源的某个部分，即返回码是206（Partial Content），这样就方便了开发者自由的选择以便于充分利用带宽和连接。\n",
    "                    \n",
    "                    \n",
    "3. **错误通知的管理**，在HTTP1.1中新增了24个错误状态响应码，如409（Conflict）表示请求的资源与资源的当前状态发生冲突；410（Gone）表示服务器上的某个资源被永久性的删除。\n",
    "                    \n",
    "                    \n",
    "4. **Host头处理**，在HTTP1.0中认为每台服务器都绑定一个唯一的IP地址，因此，请求消息中的URL并没有传递主机名（hostname）。但随着虚拟主机技术的发展，在一台物理服务器上可以存在多个虚拟主机（Multi-homed Web Servers），并且它们共享一个IP地址。HTTP1.1的请求消息和响应消息都应支持Host头域，且请求消息中如果没有Host头域会报告一个错误（400 Bad Request）。\n",
    "                    \n",
    "                    \n",
    "5. **长连接**，HTTP 1.1支持长连接（PersistentConnection）和请求的**流水线**（Pipelining）处理，在一个TCP连接上可以传送多个HTTP请求和响应，减少了建立和关闭连接的消耗和延迟，在HTTP1.1中默认开启Connection： keep-alive，一定程度上弥补了HTTP1.0每次请求都要创建连接的缺点。"
   ]
  },
  {
   "cell_type": "markdown",
   "metadata": {},
   "source": [
    "### HTTP1.1+和2.0的区别"
   ]
  },
  {
   "cell_type": "markdown",
   "metadata": {},
   "source": [
    "1. HTTP/2采用**二进制格式**而非文本格式\n",
    "2. HTTP/2是完全**多路复用**的，而**非有序并阻塞**的——只需一个连接即可实现并行\n",
    "3. 使用**报头压缩**，HTTP/2降低了开销\n",
    "4. HTTP/2让服务器可以将响应**主动“推送”**到客户端缓存中"
   ]
  },
  {
   "cell_type": "markdown",
   "metadata": {},
   "source": [
    "**<li>Session与Cookie的区别</li>**\n",
    "\n",
    "    Cookie：（记录客户端的状态以及客户端的一些浏览记录等）\n",
    "        Cookie是由服务器发给客户端的特殊信息，而这些信息以文本文件的方式存放在客户端，然后客户端每次向服务器发送请求的时候都会带上这些特殊的信息，用于服务器记录客户端的状态。\n",
    "    主要用在：\n",
    "    1、会话状态管理（如用户登录状态、购物车、游戏分数或其它需要记录的信息）\n",
    "    2、个性化设置（如用户自定义设置、主题等）\n",
    "    3、浏览器行为跟踪（如跟踪分析用户行为等）\n",
    "    \n",
    "    Session：\n",
    "        Session是另一种记录客户状态的机制，不同的是Cookie保存在客户端浏览器中，而Session保存在服务器上。客户端浏览器访问服务器的时候，服务器把客户端信息以某种形式记录在服务器上。\n",
    "        \n",
    "    Cookie和Session的区别：\n",
    "    \n",
    "       1、Cookie和Session都是会话技术，Cookie是运行在客户端，Session是运行在服务器端。\n",
    "  \n",
    "       2、Cookie有大小限制以及浏览器在存cookie的个数也有限制，Session是没有大小限制和服务器的内存大小有关。\n",
    "\n",
    "       3、Cookie有安全隐患，通过拦截或本地文件找得到你的cookie后可以进行攻击。\n",
    "\n",
    "       4、Session是保存在服务器端上会存在一段时间才会消失，如果session过多会增加服务器的压力。\n",
    "        "
   ]
  },
  {
   "cell_type": "markdown",
   "metadata": {},
   "source": [
    "### HTTP 长连接和短连接的理解"
   ]
  },
  {
   "cell_type": "markdown",
   "metadata": {},
   "source": [
    "**短连接** \n",
    "* **只保持在数据传输过程**，请求发起，连接建立，数据返回，连接关闭。\n",
    "* 它适用于一些**实时数据请求**，配合轮询来进行新旧数据的更替。\n",
    "                    \n",
    "                    \n",
    "**长连接**  \n",
    "* 在请求关闭连接前客户端与服务端都保持连接，实质是保持这个通信管道，之后便可以对其进行复用。\n",
    "* 它适用于涉及**消息推送，请求频繁的场景（直播，流媒体）**。\n",
    "* 连接建立后，在该连接下的所有请求都可以重用这个长连接管道，避免了频繁了连接请求，提升了效率。\n",
    "\n"
   ]
  },
  {
   "cell_type": "markdown",
   "metadata": {},
   "source": [
    "### http keep-alive和tcp keepalive"
   ]
  },
  {
   "cell_type": "markdown",
   "metadata": {},
   "source": [
    "* HTTP中的Keep-alive是应用层上的命令，意图在于**连接复用**，HTTP协议本身不能复用，是传递到下层中的TCP\n",
    "* TCP中的keep alive才是TCP连接的**保活机制**，用于心跳检测，连接错误检测等；\n",
    "* HTTP中设置keep-alive为true，是通过下层协议TCP的keepalive实现的"
   ]
  },
  {
   "cell_type": "markdown",
   "metadata": {},
   "source": [
    "https://www.cnblogs.com/l199616j/p/11195667.html#_label2"
   ]
  },
  {
   "cell_type": "markdown",
   "metadata": {},
   "source": [
    "**<li>跨域产生的原因？如何解决？</li>**\n",
    "\n",
    "    1、什么是跨域：\n",
    "        跨域是指一个域下的文档或脚本试图去请求另一个域下的资源，这里跨域是广义的。"
   ]
  },
  {
   "cell_type": "markdown",
   "metadata": {},
   "source": []
  },
  {
   "cell_type": "markdown",
   "metadata": {},
   "source": []
  },
  {
   "cell_type": "markdown",
   "metadata": {},
   "source": [
    "## TCP UDP"
   ]
  },
  {
   "cell_type": "markdown",
   "metadata": {},
   "source": [
    "### 0. 三次握手和四次挥手"
   ]
  },
  {
   "cell_type": "markdown",
   "metadata": {},
   "source": [
    "![](img/tcp-3.png)"
   ]
  },
  {
   "cell_type": "markdown",
   "metadata": {},
   "source": [
    "![](img/tcp-4.png)"
   ]
  },
  {
   "cell_type": "markdown",
   "metadata": {},
   "source": [
    "### 1. 为什么要三次握手而不是二次"
   ]
  },
  {
   "cell_type": "markdown",
   "metadata": {},
   "source": [
    "如果是两次握手，可能会导致建立无意义的连接，浪费资源；  \n",
    "第三次握手是为了防止**失效的连接请求**到达服务器，让服务器错误打开连接"
   ]
  },
  {
   "cell_type": "markdown",
   "metadata": {},
   "source": [
    "如客户端发出连接请求，但因连接请求报文丢失而未收到确认，于是客户端再重传一次连接请求。后来收到了确认，建立了连接。数据传输完毕后，就释放了连接，客户端共发出了两个连接请求报文段，其中第一个丢失，第二个到达了服务端，但是第一个丢失的报文段只是在某些网络结点长时间滞留了，延误到连接释放以后的某个时间才到达服务端，此时服务端误认为客户端又发出一次新的连接请求，于是就向客户端发出确认报文段，同意建立连接，不采用三次握手，只要服务端发出确认，就建立新的连接了，此时客户端忽略服务端发来的确认，也不发送数据，则服务端一致等待客户端发送数据，浪费资源。"
   ]
  },
  {
   "cell_type": "markdown",
   "metadata": {},
   "source": [
    "### 1-2. TCP三次握手的原因"
   ]
  },
  {
   "cell_type": "markdown",
   "metadata": {},
   "source": [
    "1. 客户端的初始状态是close，服务端初始是listen\n",
    "2. 当客户端发送SYN = 1, seq = x，之后，客户端状态就变成 SYN_SENT, 当服务端接受到客户端发出的SYN后，知道客户端请求建立连接，将自己的SYN置1，ACK置1，产生一个acknowledge number=sequence number+1，（ack = x+1）并随机产生一个自己的初始序列号，发送给客户端；进入SYN_RCVD状态；\n",
    "3. 客户端检查acknowledge number是否为序列号+1，ACK是否为1，检查正确之后将自己的ACK置为1，产生一个acknowledge number=服务器发的序列号+1，发送给服务器；进入ESTABLISHED状态；服务器检查ACK为1和acknowledge number为序列号+1之后，也进入ESTABLISHED状态；完成三次握手，连接建立。"
   ]
  },
  {
   "cell_type": "markdown",
   "metadata": {},
   "source": [
    "### 1-3. TCP半连接 & 半打开"
   ]
  },
  {
   "cell_type": "markdown",
   "metadata": {},
   "source": [
    "* 半连接：发生在TCP三次握手中，当服务端收到客户端的SYN，正常相应后，就会进入SYN_REVD，此时TCP连接就进入半连接状态，进入半连接队列\n",
    "* 半打开：如果一方关闭或者异常关闭（断电，断网），而另一方并不知情，这样的链接称之为半打开（引入心跳机制就可以察觉半打开）"
   ]
  },
  {
   "cell_type": "markdown",
   "metadata": {},
   "source": [
    "**半连接**  \n",
    "* 当TCP连接完全建立后，会把相应在半连接队列中的删除\n",
    "* TCP半连接队列满了：\n",
    "* TCP全连接队列满了："
   ]
  },
  {
   "cell_type": "markdown",
   "metadata": {},
   "source": [
    "### 2. 第三次握手失败了怎么办"
   ]
  },
  {
   "cell_type": "markdown",
   "metadata": {},
   "source": [
    "当失败时服务器并不会重传ack报文，而是直接发送RST报文段，进入CLOSED状态。这样做的目的是为了防止SYN洪泛攻击。"
   ]
  },
  {
   "cell_type": "markdown",
   "metadata": {},
   "source": [
    "**SYN洪泛攻击**  \n",
    "\n",
    "\n",
    "SYN Flood攻击是通过伪造一个源地址的**SYN报文**，发送给受害主机，受害主机回复SYN-ACK报文给这些地址后，**不会收到ACK报文**，导致受害主机保持了大量的**半连接**，直到超时。这些半连接可以耗尽主机资源，使受害主机无法建立正常TCP连接，从而达到攻击的目的。\n",
    "\n",
    "\n",
    "\n",
    "**如何防范**  \n",
    "1. 启用syn cookies\n",
    "2. 修改重传次数，只要收不到客户端的响应，立即丢弃该连接\n",
    "3. 限制单IP并发数\n",
    "4. 限制单位时间内连接数\n",
    "5. 源认证"
   ]
  },
  {
   "cell_type": "markdown",
   "metadata": {},
   "source": [
    "### 3. 为什么挥手要四次，而不是三次？"
   ]
  },
  {
   "cell_type": "markdown",
   "metadata": {},
   "source": [
    "服务端的ACK和FIN是分开发送的，在关闭连接时，当服务端接收到**FIN**报文时，很可能并**不会立即关闭SOCKET**，所以只能先回复一个**ACK**报文，告诉客户端，你发的FIN报文我收到了，只有等到服务端所有的**数据都发送完**了，才能发送FIN报文，因此ACK报文和FIN报文**不能一起发送**。所以断开连接的时候才需要四次挥手来完成。\n"
   ]
  },
  {
   "cell_type": "markdown",
   "metadata": {},
   "source": [
    "https://juejin.cn/post/6844903913611591688"
   ]
  },
  {
   "cell_type": "markdown",
   "metadata": {},
   "source": []
  },
  {
   "cell_type": "markdown",
   "metadata": {},
   "source": []
  },
  {
   "cell_type": "markdown",
   "metadata": {},
   "source": [
    "### 4. 为什么 TIME_WAIT 状态需要经过 2MSL 才能转换到 CLOSE 状态"
   ]
  },
  {
   "cell_type": "markdown",
   "metadata": {},
   "source": [
    "**理由：**  \n",
    "虽然双方都同意关闭连接了，而且握手的4个报文也都协调和发送完毕，按理可以直接回到CLOSED状态（就好比从SYN_SEND状态到ESTABLISH状态那样）；  \n",
    "但是由于网络原因，发出去的ACK报文可能无法被对方正确接收，导致对方一直发送FIN报文，无法正常关闭，浪费资源；  \n",
    "\n",
    "2MSL(2倍传输时间)这个TIME_WAIT状态的作用就是用来**重发可能丢失的ACK报文**，并保证于此。"
   ]
  },
  {
   "cell_type": "markdown",
   "metadata": {},
   "source": []
  },
  {
   "cell_type": "markdown",
   "metadata": {},
   "source": [
    "## 5. TCP与UDP之间的区别"
   ]
  },
  {
   "cell_type": "markdown",
   "metadata": {},
   "source": [
    "* **TCP提供面向连接的、可靠的数据流传输，而UDP提供的是非面向连接的、不可靠的数据流传输。**\n",
    "* **消息是否有序**；TCP会为数据排序，UDP不提供任何有序的保障，数据包以任何可能的顺序到达；\n",
    "* **数据边界**；TCP不保存数据的边界，而UDP保证。在传输控制协议，TCP以**字节流**的形式发送数据，并没有明显的标志表明传输信号消息（段）的边界。UDP对应用层交下来的报文，既不合并，也不拆分，而是保留这些报文的边界\n",
    "* **传输方式**；TCP是一对一的传输方式，每条TCP传输连接只能有两个端点，只能进行点对点的数据传输，不支持多播和广播传输方式；UDP 提供了单播，多播，广播的功能\n",
    "* **速度**；TCP因为需要建立连接，速度比较慢，而UDP面向无连接，速度比较快\n",
    "* TCP 有**拥塞控制**和**流量控制**"
   ]
  },
  {
   "cell_type": "markdown",
   "metadata": {},
   "source": [
    "如果你不想丢失任何消息，使用TCP协议，而UDP能够高速传输数据，并且丢失少量的数据包是可以接受的，如视频流或在线多玩家游戏"
   ]
  },
  {
   "cell_type": "markdown",
   "metadata": {},
   "source": [
    "## 6. TCP 长连接和短连接的区别\n",
    "\n"
   ]
  },
  {
   "cell_type": "markdown",
   "metadata": {},
   "source": [
    "**短连接：**Client 向 Server 发送消息，Server 回应 Client，然后一次读写就完成了，这时候**双方**任何一个都可以发起 close 操作，不过一般都是 Client 先发起 close 操作。短连接一般只会在 Client/Server 间传递**一次读写**操作。\n",
    "\n",
    "短连接的优点：管理起来比较简单，建立存在的连接都是有用的连接，不需要额外的控制手段。\n"
   ]
  },
  {
   "cell_type": "markdown",
   "metadata": {},
   "source": [
    "\n",
    "**长连接：**Client 与 Server 完成一次读写之后，它们之间的连接并不会主动关闭，后续的读写操作会继续使用这个连接。\n",
    "\n",
    "在长连接的应用场景下，Client 端一般不会主动关闭它们之间的连接，Client 与 Server 之间的连接如果**一直不关闭**的话，随着客户端连接越来越多，Server 压力也越来越大，这时候 Server 端需要采取一些策略，如关闭一些长时间没有读写事件发生的连接，这样可以避免一些恶意连接导致 Server 端服务受损；如果条件再允许可以以客户端为颗粒度，限制每个客户端的最大长连接数，从而避免某个客户端连累后端的服务。"
   ]
  },
  {
   "cell_type": "markdown",
   "metadata": {},
   "source": [
    "## 7、TCP粘包、拆包及解决办法\n",
    "\n"
   ]
  },
  {
   "cell_type": "markdown",
   "metadata": {},
   "source": [
    "**产生的原因：**  \n",
    "    \n",
    "    1. 因为TCP是基于字节流进行数据传输的，没有数据块的边界，仅仅是一连串没有结构的字节流\n",
    "    2.  TCP 的首部没有表示数据长度的字段，不知道数据长度\n",
    "    \n",
    "**什么情况下会出现粘包/拆包：**  \n",
    "\n",
    "* 要发送的数据大于 TCP 发送<b>缓冲区</b>剩余空间大小，将会发生拆包。\n",
    "* 待发送数据大于 **MSS**（最大报文长度），TCP 在传输前将进行拆包。\n",
    "* 要发送的数据小于 TCP 发送缓冲区的大小，TCP 将**多次**写入缓冲区的数据**一次发送**出去，将会发生粘包。\n",
    "* 接收数据端的应用层没有**及时读取**接收缓冲区中的数据，将发生粘包"
   ]
  },
  {
   "cell_type": "markdown",
   "metadata": {},
   "source": [
    "**粘包：**\n",
    "服务端一次接收到了两个数据包， 两个数据包粘合在一起\n",
    "\n",
    "**拆包：**\n",
    "服务端分两次读取到了两个数据包，其中有一次读取到了另一个数据包中的数据\n"
   ]
  },
  {
   "cell_type": "markdown",
   "metadata": {},
   "source": [
    "**如何处理：**  \n",
    "\n",
    "* **消息定长：**发送端将每个数据包封装为固定长度（不够的可以通过补 0 填充），这样接收端每次接收缓冲区中读取固定长度的数据就自然而然的把每个数据包拆分开来。\n",
    "* **设置消息边界：**服务端从网络流中按消息边界分离出消息内容。在包尾增加回车换行符进行分割，例如 FTP 协议。\n",
    "* 将消息分为消息头和消息体：消息头中包含表示消息总**长度**（或者消息体长度）的字段。\n",
    "* 更复杂的应用层协议比如 Netty 中实现的一些协议都对粘包、拆包做了很好的处理。"
   ]
  },
  {
   "cell_type": "markdown",
   "metadata": {},
   "source": [
    "## 8、TCP 可靠传输"
   ]
  },
  {
   "cell_type": "markdown",
   "metadata": {},
   "source": [
    "0. **数据分块：**按照MTU合理分片，接收方会缓存未按序到达的数据，重新排序后再交给应用层。\n",
    "1. **确认应答，序列号，校验和：**接收方收到报文就会确认，发送方发送一段时间后没有收到确认就重传\n",
    "2. 重传：超时重传和快速重传：\n",
    "3. **流量控制：**当接收方来不及处理发送方的数据，能提示发送方降低发送的速率，防止包丢失 ；主要是通过**滑动窗口**来实现的\n",
    "4. **拥塞控制：**当网络拥塞时，减少数据的发送；拥塞控制的方法：**慢开始，拥塞避免，快重传，快恢复**\n",
    "5. **重复丢弃：**TCP 的接收端会丢弃重复的数据"
   ]
  },
  {
   "cell_type": "markdown",
   "metadata": {},
   "source": [
    "**超时重传：** \n",
    "客户端在发送数据时，设定一个**定时器**，当超过指定的时间后，没有收到对方的 ACK **确认应答**报文，就会重发该数据，也就是我们常说的超时重传\n",
    "\n",
    "\n",
    "**快速重传：**\n",
    "接收端连续收到3个相同的ACK，它就知道发生丢包了，根据ACK序号就能重发丢的包。\n"
   ]
  },
  {
   "cell_type": "markdown",
   "metadata": {},
   "source": [
    "## 9、TCP 滑动窗口\n"
   ]
  },
  {
   "cell_type": "markdown",
   "metadata": {},
   "source": [
    "滑动窗口实际上是一个内存缓冲区，发送方主机在等到确认应答返回之前，必须在缓冲区中保留已发送的数据。如果按期收到确认应答，此时数据就可以从缓存区清除。"
   ]
  },
  {
   "cell_type": "markdown",
   "metadata": {},
   "source": [
    "窗口可以分为发送窗口和接收窗口，窗口的大小由接收窗口和拥塞窗口共同决定的 w = min(接收窗口, 拥塞窗口)"
   ]
  },
  {
   "cell_type": "markdown",
   "metadata": {},
   "source": [
    "https://www.cnblogs.com/xiaolincoding/p/12732052.html"
   ]
  },
  {
   "cell_type": "markdown",
   "metadata": {},
   "source": [
    "## 10、TCP 流量控制\n",
    "\n"
   ]
  },
  {
   "cell_type": "markdown",
   "metadata": {},
   "source": [
    "**发送方根据接收方的实际接收能力控制发送的数据量**"
   ]
  },
  {
   "cell_type": "markdown",
   "metadata": {},
   "source": [
    "https://www.cnblogs.com/xiaolincoding/p/12732052.html"
   ]
  },
  {
   "cell_type": "markdown",
   "metadata": {},
   "source": [
    "流量控制是作用于接收者的，它是控制**发送者**的发送速度从而使接收者来得及接收，防止分组丢失的。"
   ]
  },
  {
   "cell_type": "markdown",
   "metadata": {},
   "source": [
    "**拥塞控制是作用于**网络的，它是防止过多的数据注入到网络中，避免出现网络负载过大的情况；"
   ]
  },
  {
   "cell_type": "markdown",
   "metadata": {},
   "source": [
    "## 11、TCP 拥塞控制"
   ]
  },
  {
   "cell_type": "markdown",
   "metadata": {},
   "source": [
    "4种方式：  \n",
    "* 慢开始： 以指数形式增长，直到遇到阈值ssthresh\n",
    "* 拥塞避免： 在阈值之后以线性增长\n",
    "* 快重传：发送方只要一连收到三个重复确认就应当立即重传对方尚未收到的报文段，而不必继续等待设置的重传计时器时间到期\n",
    "* 快恢复：发送方连续收到三个重复确认时，把慢开始门限设置为cwnd/2=24/2=12，拥塞窗口的值设置为慢开始门限减半后的值，即cwnd=12，然后开始执行拥塞避免算法。\n"
   ]
  },
  {
   "cell_type": "markdown",
   "metadata": {},
   "source": [
    "![](img/tcp-5.png)"
   ]
  },
  {
   "cell_type": "markdown",
   "metadata": {},
   "source": [
    "![](img/tcp-6.png)"
   ]
  },
  {
   "cell_type": "markdown",
   "metadata": {},
   "source": [
    "## 12. HTTP和HTTPS的区别 "
   ]
  },
  {
   "cell_type": "markdown",
   "metadata": {},
   "source": [
    "* HTTP是明文传输，不安全的，HTTPS是加密传输，安全的多\n",
    "* HTTP标准端口是80，HTTPS标准端口是443\n",
    "* HTTP不用认证证书免费，HTTPS需要认证证书要钱\n",
    "* 连接方式不同，HTTP三次握手，HTTPS中TLS1.2版本7次，TLS1.3版本6次，HTTPS是先建立SSL/TSL连接，再建立TCP连接\n",
    "* HTTP在OSI网络模型中是在**应用层**，而HTTPS的TLS是在**传输层**\n",
    "* HTTP是无状态的，HTTPS是有状态的\n"
   ]
  },
  {
   "cell_type": "markdown",
   "metadata": {},
   "source": [
    "## 13. HTTPS && 加密算法"
   ]
  },
  {
   "cell_type": "markdown",
   "metadata": {},
   "source": [
    "1. **什么是HTTPS**  \n",
    "简单来说，HTTPS是安全的HTTP, 是对HTTP的一种拓展，在 HTTPS 中，使用传输层安全性(TLS)或安全套接字层(SSL)对通信协议进行加密。也就是 HTTP + SSL(TLS) = HTTPS"
   ]
  },
  {
   "cell_type": "markdown",
   "metadata": {},
   "source": [
    "2. **HTTPs加密在哪一层实现**：应用层（OSI 7层中的会话层"
   ]
  },
  {
   "cell_type": "markdown",
   "metadata": {},
   "source": [
    "3. **HTTPS中的S是什么**  \n",
    "S指的就是SSL/TSL"
   ]
  },
  {
   "cell_type": "markdown",
   "metadata": {},
   "source": [
    "### 什么是 SSL/TLS  \n",
    "* TLS(Transport Layer Security) 是 SSL(Secure Socket Layer) 的后续版本，它们是用于在互联网两台计算机之间用于**身份验证**和**加密**的一种**协议。**\n",
    "\n",
    "* TLS 由记录协议、握手协议、警告协议、变更密码规范协议、扩展协议等几个子协议组成，综合使用了对称加密、非对称加密、身份认证等许多密码学前沿技术\n",
    "\n",
    "* 基本格式就是 **密钥交换算法 - 签名算法 - 对称加密算法 - 摘要算法** 组成的一个密码串，有时候还有分组模式\n",
    "\n",
    "* **对称加密**：加密和解密时使用的密钥都是同样的密钥\n",
    "* **非对称加密**：一个是公钥，一个是私钥，公钥进行加密，私钥进行解密"
   ]
  },
  {
   "cell_type": "markdown",
   "metadata": {},
   "source": [
    "https://juejin.cn/post/6844904089495535624#heading-6"
   ]
  },
  {
   "cell_type": "markdown",
   "metadata": {},
   "source": [
    "## 14. 有Mac地址为什么还需要ip地址"
   ]
  },
  {
   "cell_type": "markdown",
   "metadata": {},
   "source": [
    "1. mac地址种类多，海量分布，仅使用MAC地址进行数据传输，效率底下\n",
    "2. 有了IP地址，就只通过路由器找到目的主机，屏蔽了下层网络的异构型，由MAC地址完成下层的实际转发\n",
    "3. 也不能仅有IP地址；IP地址是要设备上线以后才能根据他进入了哪个子网来分配的,在设备还没有IP地址的时候(或者分配IP地址的过程中)，我们还需要用MAC地址来区分不同的设备"
   ]
  },
  {
   "cell_type": "markdown",
   "metadata": {},
   "source": [
    "## 15. HTTP请求的方式"
   ]
  },
  {
   "cell_type": "markdown",
   "metadata": {},
   "source": [
    "* get, head, post, put"
   ]
  },
  {
   "cell_type": "markdown",
   "metadata": {},
   "source": [
    "* **Get**\n",
    "* 显示请求指定的资源，并返回响应主体\n",
    "* 幂等的\n",
    "* GET 请求可被缓存\n",
    "* GET 请求保留在浏览器历史记录中\n",
    "* GET 请求可被收藏为书签\n",
    "* GET 请求**不应**在处理敏感数据时使用\n",
    "* GET 请求有长度限制\n",
    "* GET 请求只应当用于取回数据（不修改）"
   ]
  },
  {
   "cell_type": "markdown",
   "metadata": {},
   "source": [
    "* **Head**\n",
    "* 向服务器发出指定资源的请求，只不过服务器将不传回资源的本文部分，**只返回头部消息**。\n",
    "* 在不获取资源的情况下，了解资源的一些信息，比如资源类型；\n",
    "* 通过查看响应中的状态码，可以确定资源是否存在；\n",
    "* 通过查看首部，测试资源是否被修改。"
   ]
  },
  {
   "cell_type": "markdown",
   "metadata": {},
   "source": [
    "* **Post**：用于向指定资源提交数据，请求服务器进行处理（例如提交表单或者上传文件），数据被包含在请求本文中。（非幂等 ）\n",
    "* 可能会创建新的资源或修改现有资源\n",
    "* POST 请求不会被缓存\n",
    "* POST 请求不会保留在浏览器历史记录中\n",
    "* POST 不能被收藏为书签\n",
    "* POST 请求对数据长度没有要求"
   ]
  },
  {
   "cell_type": "markdown",
   "metadata": {},
   "source": [
    "* **Put**：将数据发送到服务器来创建/更新资源（幂等）\n",
    "* 如果目标资源不存在，并且PUT方法成功创建了一份，那么源头服务器必须返回 201(Created) 来通知客户端资源已创建。\n",
    "* 如果目标资源已经存在，并且依照请求中封装的表现形式成功进行了更新，那么，源头服务器必须返回 200 (OK)  或者 204 (No Content) 来表示请求的成功完成。"
   ]
  },
  {
   "cell_type": "markdown",
   "metadata": {},
   "source": [
    "https://juejin.cn/post/6992146726500958239"
   ]
  },
  {
   "cell_type": "markdown",
   "metadata": {},
   "source": []
  },
  {
   "cell_type": "markdown",
   "metadata": {},
   "source": []
  }
 ],
 "metadata": {
  "kernelspec": {
   "display_name": "Python 3",
   "language": "python",
   "name": "python3"
  },
  "language_info": {
   "codemirror_mode": {
    "name": "ipython",
    "version": 3
   },
   "file_extension": ".py",
   "mimetype": "text/x-python",
   "name": "python",
   "nbconvert_exporter": "python",
   "pygments_lexer": "ipython3",
   "version": "3.7.3"
  }
 },
 "nbformat": 4,
 "nbformat_minor": 2
}
