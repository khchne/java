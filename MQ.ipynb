{
 "cells": [
  {
   "cell_type": "markdown",
   "metadata": {},
   "source": [
    "### 1. 为什么使用RabbitMQ？"
   ]
  },
  {
   "cell_type": "markdown",
   "metadata": {},
   "source": [
    ">**什么是RMQ**：  \n",
    "    采用AMQP高级消息队列协议的一种消息队列技术,最大的特点就是消费并不需要确保提供方存在,实现了服务之间的高度解耦。\n",
    "\n",
    "**削峰：**减少高峰时期对数据库的压力， 防止所有的请求一次性直接打到数据库中，导致数据库崩溃。"
   ]
  },
  {
   "cell_type": "markdown",
   "metadata": {},
   "source": [
    "当然，RMQ还有其他的优点：\n",
    "1. **解耦**：一个系统或者一个模块，调用了多个系统或者模块，互相之间的调用很复杂，维护起来很麻烦。但是其实这个调用是不需要直接同步调用接口的，如果用 MQ 给它异步化解耦\n",
    "2. **异步：** 生产者生产后，放入队列，不用等消费者消费之后再返回，可以通过轮寻的方式定期查看消费结果；异步发送短信、推送消息、⽇志记录等，可以⼤⼤减⼩响应时间\n",
    "3. **可靠性:** RabbitMQ使用一些机制来保证可靠性， 如持久化、传输确认及发布确认等。"
   ]
  },
  {
   "cell_type": "markdown",
   "metadata": {},
   "source": [
    "# 下面的2，3，4均是保证**可靠性**的方法"
   ]
  },
  {
   "cell_type": "markdown",
   "metadata": {},
   "source": [
    "### 2. 如何确保消息正确地发送至RabbitMQ？如何确保消息接收方消费了消息？"
   ]
  },
  {
   "cell_type": "markdown",
   "metadata": {},
   "source": [
    "**发送方确认模式**\n",
    "\n",
    "1. 将信道设置成**confirm模式（发送方确认模式）**，则所有在信道上发布的消息都会被指派一个唯一的ID。\n",
    "2. 一旦消息被**投递**到目的队列后，或者消息被**写入磁盘**后（可持久化的消息），信道会发送一个确认给生产者（包含消息唯一 ID）。\n",
    "3. 如果 RabbitMQ发生内部错误从而导致消息丢失，会发送一条**nack（notacknowledged，未确认）**消息。发送方确认模式是异步的，生产者应用程序在等待确认的同时，可以继续发送消息。当确认消息到达生产者应用程序，生产者应用程序的**回调**方法就会被触发来处理确认消息。\n",
    "\n",
    "**接收方确认机制**  \n",
    "    **接收方消息确认机制**  \n",
    "    \n",
    "* 消费者接收每一条消息后都必须进行**确认**（消息接收和消息确认是两个不同操作）。\n",
    "* 只有消费者确认了消息，RabbitMQ才能安全地把消息从队列中删除。\n",
    "* 这里并没有用到超时机制，RabbitMQ仅通过Consumer的连接中断来确认是否需要重新发送消息。也就是说，只要连接不中断，RabbitMQ给了Consumer足够长的时间来处理消息。保证数据的最终一致性；\n",
    "* **如果消费者接收到消息，在确认之前断开了连接或取消订阅，RabbitMQ会认为消息没有被分发，然后重新分发给下一个订阅的消费者**\n",
    "* 如果消费者接收到消息却没有确认消息，连接也未断开，则RabbitMQ认为该消费者繁忙，将不会给该消费者分发更多的消息。\n"
   ]
  },
  {
   "cell_type": "markdown",
   "metadata": {},
   "source": [
    "### 3. 如何避免消息重复投递或重复消费？"
   ]
  },
  {
   "cell_type": "markdown",
   "metadata": {},
   "source": [
    "**为什么会重复消费**  \n",
    "\n",
    "正常情况下，消费者在消费消息的时候，消费完毕后，会发送一个确认消息给消息队列，消息队列就知道该消息被消费了，就会将该消息从消息队列中删除；\n",
    "\n",
    "但是因为网络传输等等故障，确认信息没有传送到消息队列，导致消息队列不知道自己已经消费过该消息了，再次将消息分发给其他的消费者。\n"
   ]
  },
  {
   "cell_type": "markdown",
   "metadata": {},
   "source": [
    "**避免重复消费**"
   ]
  },
  {
   "cell_type": "markdown",
   "metadata": {},
   "source": [
    "* 1. 在传递的消息中设置一个唯一的标识（如支付ID、订单ID、帖子ID等）\n",
    "* 2. 使用外部介质 + 设置一个唯一标识；如redis；每次在消费前先查询是否被消费，如果没有，则消费且设置value为已消费"
   ]
  },
  {
   "cell_type": "markdown",
   "metadata": {},
   "source": [
    "**避免重复投递**"
   ]
  },
  {
   "cell_type": "markdown",
   "metadata": {},
   "source": [
    "* 在消息生产时，MQ内部针对每条生产者发送的消息生成一个inner-msg-id"
   ]
  },
  {
   "cell_type": "markdown",
   "metadata": {},
   "source": [
    "### 4. 如何解决丢数据的问题?"
   ]
  },
  {
   "cell_type": "markdown",
   "metadata": {},
   "source": [
    "* 丢失又分为：生产者丢失消息、消息列表丢失消息、消费者丢失消息；  \n",
    "\n",
    "\n",
    "1. **生产者丢失消息：**   \n",
    "\n",
    "从生产者弄丢数据这个角度来看，RabbitMQ提供**transaction(事务)和confirm**模式来确保生产者不丢消息；\n",
    "* **transaction机制**就是说：发送消息前，开启事务（channel.txSelect()）,然后发送消息，如果发送过程中出现什么异常，事务就会回滚（channel.txRollback()）,如果发送成功则提交事务（channel.txCommit()）。**缺点：吞吐量下降；**  \n",
    "\n",
    "\n",
    "* **confirm模式**（用的居多）：一旦channel进入confirm模式，所有在该信道上发布的消息都将会被指派一个唯一的ID（从1开始），一旦消息被投递到所有匹配的队列之后；rabbitMQ就会发送一个**ACK**给生产者（包含消息的唯一ID），这就使得生产者知道消息已经正确到达目的队列了；**如果**rabbitMQ没能处理该消息，则会发送一个Nack消息给你，你可以进行重试操作。\n",
    "\n",
    "\n",
    "2. **消息队列丢数据：消息持久化，开启将消息持久化写入磁盘**\n",
    "\n",
    "\n",
    "* 这个持久化配置可以和confirm机制配合使用，你可以在消息持久化磁盘后，再给生产者发送一个Ack信号。这样，如果消息持久化磁盘之前，rabbitMQ阵亡了，那么生产者收不到Ack信号，生产者会自动重发。  \n",
    "\n",
    "**开启持久化(消息持久化)**\n",
    "    1. 将queue的持久化标识durable设置为true,则代表是一个持久的队列\n",
    "    2. 发送消息的时候将deliveryMode=2\n",
    "这样设置以后，即使rabbitMQ挂了，重启后也能恢复数据\n",
    "\n",
    "\n",
    "3. **消费者丢失消息：**\n",
    "取消自动确认，采用手动确认；处理消息成功后，手动回复确认消息。"
   ]
  },
  {
   "cell_type": "markdown",
   "metadata": {},
   "source": [
    "### 5. 持久化的三种类型"
   ]
  },
  {
   "cell_type": "markdown",
   "metadata": {},
   "source": [
    "1. 交换机（Exchange)持久化\n",
    "```java\n",
    "/**\n",
    "         * 参数1：交换机名称\n",
    "         * 参数2：交换机类型\n",
    "         * 参数3：是否持久化 默认 false\n",
    "         */\n",
    "        channel.exchangeDeclare(\"logs_direct\", BuiltinExchangeType.DIRECT,true);\n",
    "```\n",
    "\n",
    "2. 队列（Queue）持久化  \n",
    "\n",
    "```java\n",
    "/**\n",
    "         * 参数1：String queue 队列名称 如果队列不存在会自动创建\n",
    "         * 参数2：boolean durable  队列是否持久化 true 持久化 false 不持久化  默认：false\n",
    "         * 参数3：boolean exclusive 是否独占队列 true 独占队列 false 不独占 默认：true\n",
    "         * 参数4：boolean autoDelete 是否在消费完成后自动删除  true 自动删除 默认：true\n",
    "         * 参数5：Map<String, Object> arguments  额外附加参数\n",
    "         */\n",
    "        channel.queueDeclare(\"hello-1\",true,false,false,null);\n",
    "\n",
    "```\n",
    "\n",
    "3. 消息（Message）持久化  \n",
    "\n",
    "```java\n",
    "channel.basicPublish(\"exchangeName\" , \"routingKey\",\n",
    "                new AMQP.BasicProperties.Builder()\n",
    "                        .deliveryMode(2)\n",
    "                        .build(),\n",
    "                \"ddf\".getBytes());\n",
    "\n",
    "```"
   ]
  },
  {
   "cell_type": "markdown",
   "metadata": {},
   "source": [
    "### 6. 4种交换机模式（RabbitMq是怎么路由的）"
   ]
  },
  {
   "cell_type": "markdown",
   "metadata": {},
   "source": [
    "* **Direct Exchange**：此交换机需要绑定一个队列，要求该消息与一个特定的路由键完全匹配。简单点说就是一对一的，点对点的发送。\n",
    "* 发送的时候需要 指定交换机，发送的key，这样交换机会将消息发送给 绑定了这个key的队列"
   ]
  },
  {
   "cell_type": "markdown",
   "metadata": {},
   "source": [
    "* 定义队列，定义交换机\n",
    "* 让队列绑定一个key\n",
    "* 让交换机绑定队列和相应的key"
   ]
  },
  {
   "cell_type": "markdown",
   "metadata": {},
   "source": [
    "* **Fanout Exchange**：类似**广播**模式；将队列绑定到交换机上。一个发送到交换机的消息都会被转发到与该交换机绑定的所有队列上"
   ]
  },
  {
   "cell_type": "markdown",
   "metadata": {},
   "source": [
    "* 定义队列，定义交换机\n",
    "* 让队列绑定交换机\n",
    "* 这样客户端 通过指定消息要发送的交换机，交换机会直接把消息发送给所有绑定了该交换机的队列"
   ]
  },
  {
   "cell_type": "markdown",
   "metadata": {},
   "source": [
    "* **Topic Exchange**：主题交换机，使用通配符去匹配，路由到对应的队列。\n",
    "\n",
    "\n",
    "* 通配符有两种：\"\\*\" 、 \"\\#\"。需要注意的是通配符前面必须要加上\".\"符号。\n",
    "* \\* 符号：有且只匹配一个词。比如 a.*可以匹配到\"a.b\"、\"a.c\"，但是匹配不了\"a.b.c\"。\n",
    "* \\# 符号：匹配一个或多个词。比如\"rabbit.#\"既可以匹配到\"rabbit.a.b\"、\"rabbit.a\"，也可以匹配到\"rabbit.a.b.c\"。\n"
   ]
  },
  {
   "cell_type": "markdown",
   "metadata": {},
   "source": [
    "* 定义队列，定义交换机\n",
    "* 定义交换机要绑定的key和队列，\n",
    "* 定义队列需要匹配的key\n",
    "* 当客户端发送消息给交换机时，交换机给根据key的匹配原则，将消息发送给匹配到的队列"
   ]
  },
  {
   "cell_type": "markdown",
   "metadata": {},
   "source": [
    "* **Headers Exchange**：路由不是用routingKey进行路由匹配，而是在匹配请求头中所带的键值进行路由;;创建队列需要设置绑定的头部信息，有两种模式：全部匹配和部分匹配。交换机会根据生产者发送过来的头部信息携带的键值去匹配队列绑定的键值，路由到对应的队列。"
   ]
  },
  {
   "cell_type": "markdown",
   "metadata": {},
   "source": [
    "### 7. MQ的组成"
   ]
  },
  {
   "cell_type": "markdown",
   "metadata": {},
   "source": [
    "![](img/mq.png)"
   ]
  },
  {
   "cell_type": "markdown",
   "metadata": {},
   "source": [
    "* Broker：可以看做RabbitMQ的服务节点。一般情况下，一个broker可以看做一个RabbitMQ服务器\n",
    "* Exchange：消息交换机，它指定消息按什么规则，路由到哪个队列。\n",
    "* Queue：消息队列载体，每个消息都会被投⼊到⼀个或多个队列。\n",
    "* Binding：绑定，它的作⽤就是把exchange和queue按照路由规则绑定起来。\n",
    "* Routing Key：路由关键字，exchange根据这个关键字进⾏消息投递。\n",
    "* vhost：虚拟主机，⼀个broker⾥可以开设多个vhost，⽤作不同⽤户的权限分离；每个VirtualHost相当于一个相对独立的RabbitMQ服务器；每个VirtualHost之间是相互隔离的，exchange、queue、message不能互通。 \n",
    "\n",
    "* producer：消息⽣产者，就是投递消息的程序。\n",
    "* consumer：消息消费者，就是接受消息的程序。\n",
    "* channel：消息通道，在客户端的每个连接⾥，可建⽴多个channel，每个channel代表⼀个会话任务。"
   ]
  },
  {
   "cell_type": "markdown",
   "metadata": {},
   "source": [
    "**channel详情**：信道是建立在 Connection 之上的虚拟连接，RabbitMQ 处理的每条 AMQP 指令都是通过信道完成的。\n",
    "* **RabbitMQ 使用信道的方式来传输数据**。信道是建立在真实的 TCP 连接内的虚拟连接，且每条 TCP 连接上的信道数量没有限制。"
   ]
  },
  {
   "cell_type": "markdown",
   "metadata": {},
   "source": [
    "**采用信道(channel)而不是直接用TCP的原因：** 对于操作系统而言，建立和销毁 TCP 连接是非常昂贵的开销，如果遇到使用高峰，性能瓶颈也随之显现。\n",
    "\n",
    "RabbitMQ 选择 TCP 连接复用，不仅可以减少性能开销，同时也便于管理。"
   ]
  },
  {
   "cell_type": "markdown",
   "metadata": {},
   "source": [
    "![](img/channel.png)"
   ]
  },
  {
   "cell_type": "markdown",
   "metadata": {},
   "source": [
    "### 8. AMQP协议"
   ]
  },
  {
   "cell_type": "markdown",
   "metadata": {},
   "source": [
    "AMQP（Advanced Message Queuing Protocol，高级消息队列协议）是一个**进程间传递异步消息的网络协议。**"
   ]
  },
  {
   "cell_type": "markdown",
   "metadata": {},
   "source": [
    "工作原理：发布者（Publisher）发布消息（Message），经由交换机（Exchange）。\n",
    "\n",
    "交换机根据**路由规则**将收到的消息分发给与该交换机绑定的队列（Queue）。\n",
    "\n",
    "最后 AMQP 代理会将消息投递给订阅了此队列的消费者，或者消费者按照需求自行获取。"
   ]
  },
  {
   "cell_type": "markdown",
   "metadata": {},
   "source": [
    "交换机（Exchange），队列（Queue），绑定（binding）是AMQP模型的三大组件"
   ]
  },
  {
   "cell_type": "markdown",
   "metadata": {},
   "source": [
    "AMQP协议3层:  \n",
    "* **Module Layer:** 协议最高层，主要定义了一些客户端调用的命令，客户端可以用这些命令实现自己的业务逻辑。\n",
    "* **Session Layer:** 中间层，主要负责客户端命令发送给服务器，再将服务端应答返回客户端，提供可靠性同步机制和错误处理。\n",
    "* **TransportLayer:** 最底层，主要传输二进制数据流，提供帧的处理、信道服用、错误检测和数据表示等\n"
   ]
  },
  {
   "cell_type": "markdown",
   "metadata": {},
   "source": [
    "### 9. 死信队列"
   ]
  },
  {
   "cell_type": "markdown",
   "metadata": {},
   "source": [
    "* 死信：消息的一种状态，它仍然是一个正常的消息；\n",
    "    \n",
    "    从消息变成死信：\n",
    "    \n",
    "        1、消息过期。消息在队列的存活时间超过所设置的 TTL 时间。\n",
    "        2、消息被拒绝，调用了 channel.basicNack 或 channel.basicReject方法，并且设置 requeue 参数为false。\n",
    "        3、队列的消息达到最大长度。\n"
   ]
  },
  {
   "cell_type": "markdown",
   "metadata": {},
   "source": [
    "DLX ，全称为 Dead-Letter-Exchange ，可以称之为死信交换机。当消息在一个队列中变成死信（ dead message ）之后，它能被重新被发送到另一个交换器中，这个交换器就是 DLX ，绑定 DLX 的队列就称之为死信队列。"
   ]
  },
  {
   "cell_type": "markdown",
   "metadata": {},
   "source": [
    "DLX 也是一个**正常的交换器**，和一般的交换器没有区别，它能在任何的队列上被指定，实际上就是设置某个队列的属性。当这个队列中存在死信时 RabbitMQ 就会自动地将这个消息新发布到设置的 DLX 上去，进而被路由到另一个队列，即死信队列。可以监听这个队列中的消息、以进行相应的处理。"
   ]
  },
  {
   "cell_type": "markdown",
   "metadata": {},
   "source": [
    "### 11. 集群  "
   ]
  },
  {
   "cell_type": "markdown",
   "metadata": {},
   "source": [
    "1. 通常情况下，在集群中我们把**每一个服务称之为一个节点**，在 RabbitMQ 集群中，节点类型可以分为两种：\n",
    "\n",
    "2. **内存节点**：元数据存放于内存中。为了重启后能同步数据，内存节点会将磁盘节点的地址存放于磁盘之中，除此之外，如果消息被持久化了也会存放于磁盘之中，因为内存节点读写速度快，一般客户端会连接内存节点。\n",
    "\n",
    "3. **磁盘节点**：元数据存放于磁盘中（默认节点类型），需要保证至少一个磁盘节点，否则一旦宕机，无法恢复数据，从而也就无法达到集群的高可用目的。\n",
    "\n",
    "* 元数据，指的是包括队列名字属性、交换机的类型名字属性、绑定信息、vhost等基础信息，不包括队列中的消息数据"
   ]
  },
  {
   "cell_type": "markdown",
   "metadata": {},
   "source": [
    "**普通集群**：将 RabbitMQ 部署到多台服务器上，每个服务器启动一个 RabbitMQ 实例，多个实例之间进行消息通信。集群中各个节点之间**只会相互同步元数据**，也就是说，消息数据不会被同步；\n",
    "\n",
    "* 当我们消费消息的时候，如果连接到了另外一个实例，那么那个实例会通过元数据定位到 Queue 所在的位置，然后访问 Queue 所在的实例，拉取数据过来发送给消费者。\n",
    "* 缺点：无法保证高可用，如果保存数据的结点宕机了，可能会导致数据丢失"
   ]
  },
  {
   "cell_type": "markdown",
   "metadata": {},
   "source": [
    "![](img/cluster01.png)"
   ]
  },
  {
   "cell_type": "markdown",
   "metadata": {},
   "source": [
    "**镜像集群**：节点之间**不仅仅会同步元数据，消息内容也会在镜像节点间同步**，可用性更高，但是可能会有一些延迟"
   ]
  },
  {
   "cell_type": "markdown",
   "metadata": {},
   "source": [
    "![](img/cluster02.png)"
   ]
  },
  {
   "cell_type": "markdown",
   "metadata": {},
   "source": [
    "### 12. 上千万条消息在mq中积压了几个小时还没解决：\n",
    "\n",
    "1. 先修复consumer的问题，确保其恢复消费速度，然后将现有consumer都停掉；\n",
    "2. 新建⼀个topic，partition是原来的10倍，临时建⽴好原先10倍或者20倍的queue数量；\n",
    "3. 然后写⼀个临时的分发数据的consumer程序，这个程序部署上去消费积压的数据；消费之后不做耗时的处理，直接均匀轮询写⼊临时建⽴好的10倍数量的queue；\n",
    "4. 接着临时征⽤10倍的机器来部署consumer，每⼀批consumer消费⼀个临时queue的数据；\n",
    "5. 这种做法相当于是临时将queue资源和consumer资源扩⼤10倍，以正常的10倍速度来消费数据；\n",
    "6. 等快速消费完积压数据之后，得恢复原先部署架构，重新⽤原先的consumer机器来消费消息。"
   ]
  },
  {
   "cell_type": "markdown",
   "metadata": {},
   "source": [
    "### 13. 消息如何分发？\n",
    "若该队列⾄少有⼀个消费者订阅，消息将以**循环（round-robin）**的⽅式发送给消费者。每条消息只会分发给⼀个订阅的消费者（前提是消费者能够正常处理消息并进⾏确认）"
   ]
  },
  {
   "cell_type": "markdown",
   "metadata": {},
   "source": [
    "### 14. 如何保证消息的顺序性？\n",
    "通过某种算法，将需要保持先后顺序的消息放到同⼀个消息队列中(kafka中就是partition,rabbitMq中就是queue)。然后只⽤⼀个消费者去消费该队列。\n",
    "可以在消息体内添加全局有序标识来实现。"
   ]
  },
  {
   "cell_type": "markdown",
   "metadata": {},
   "source": [
    "### 15. RabbitMQ中消息可能有的几种状态?\n",
    "* alpha: 消息内容(包括消息体、属性和 headers) 和消息索引都存储在内存中 。\n",
    "\n",
    "* beta: 消息内容保存在磁盘中，消息索引保存在内存中。\n",
    "\n",
    "* gamma: 消息内容保存在磁盘中，消息索引在磁盘和内存中都有 。\n",
    "\n",
    "* delta: 消息内容和索引都在磁盘中 。"
   ]
  },
  {
   "cell_type": "markdown",
   "metadata": {},
   "source": [
    "### 16. 延时队列\n",
    "\n",
    "在rabbitmq中不存在延时队列，但是我们可以**通过设置消息的过期时间和死信队列来模拟出延时队列**。消费者监听死信交换器绑定的队列，而不要监听消息发送的队列"
   ]
  },
  {
   "cell_type": "markdown",
   "metadata": {},
   "source": [
    "### 17. 队列结构\n",
    "\n",
    "* rabbit_amqqueue_process:负责协议相关的消息处理，即接收生产者发布的消息、向消费者交付消息、处理消息的确认(包括生产端的 confirm 和消费端的 ack) 等。\n",
    "\n",
    "* backing_queue:是消息存储的具体形式和引擎，并向 rabbit amqqueue process提供相关的接口以供调用。"
   ]
  },
  {
   "cell_type": "markdown",
   "metadata": {},
   "source": [
    "### 18. 优先级队列？\n",
    "* 优先级高的队列会先被消费。\n",
    "\n",
    "* 可以通过x-max-priority参数来实现。\n",
    "\n",
    "* 当消费速度大于生产速度且Broker没有堆积的情况下，优先级显得没有意义。"
   ]
  },
  {
   "cell_type": "markdown",
   "metadata": {},
   "source": [
    "* **生产者消息运转？**  \n",
    "\n",
    "1.Producer先连接到Broker,建立连接Connection,开启一个信道(Channel)。\n",
    "\n",
    "2.Producer声明一个交换器并设置好相关属性。\n",
    "\n",
    "3.Producer声明一个队列并设置好相关属性。\n",
    "\n",
    "4.Producer通过路由键将交换器和队列绑定起来。\n",
    "\n",
    "5.Producer发送消息到Broker,其中包含路由键、交换器等信息。\n",
    "\n",
    "6.相应的交换器根据接收到的路由键查找匹配的队列。\n",
    "\n",
    "7.如果找到，将消息存入对应的队列，如果没有找到，会根据生产者的配置丢弃或者退回给生产者。\n",
    "\n",
    "8.关闭信道。\n",
    "\n",
    "9.管理连接。\n",
    "\n",
    "* **消费者接收消息过程？**  \n",
    "\n",
    "1.Producer先连接到Broker,建立连接Connection,开启一个信道(Channel)。\n",
    "\n",
    "2.向Broker请求消费响应的队列中消息，可能会设置响应的回调函数。\n",
    "\n",
    "3.等待Broker回应并投递相应队列中的消息，接收消息。\n",
    "\n",
    "4.消费者确认收到的消息,ack。\n",
    "\n",
    "5.RabbitMq从队列中删除已经确定的消息。\n",
    "\n",
    "6.关闭信道。\n",
    "\n",
    "7.关闭连接。\n",
    "\n",
    "* **交换器无法根据自身类型和路由键找到符合条件队列时，有哪些处理？**  \n",
    "\n",
    "mandatory ：true 返回消息给生产者。\n",
    "\n",
    "mandatory: false 直接丢弃。\n",
    "\n"
   ]
  },
  {
   "cell_type": "markdown",
   "metadata": {},
   "source": []
  },
  {
   "cell_type": "markdown",
   "metadata": {},
   "source": []
  },
  {
   "cell_type": "markdown",
   "metadata": {},
   "source": []
  },
  {
   "cell_type": "markdown",
   "metadata": {},
   "source": []
  },
  {
   "cell_type": "markdown",
   "metadata": {},
   "source": []
  }
 ],
 "metadata": {
  "kernelspec": {
   "display_name": "Python 3",
   "language": "python",
   "name": "python3"
  },
  "language_info": {
   "codemirror_mode": {
    "name": "ipython",
    "version": 3
   },
   "file_extension": ".py",
   "mimetype": "text/x-python",
   "name": "python",
   "nbconvert_exporter": "python",
   "pygments_lexer": "ipython3",
   "version": "3.7.3"
  }
 },
 "nbformat": 4,
 "nbformat_minor": 2
}
